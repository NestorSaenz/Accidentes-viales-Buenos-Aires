{
 "cells": [
  {
   "cell_type": "markdown",
   "metadata": {},
   "source": [
    "## EDA\n",
    "### Siniestros viales en Ciudad de Buenos Aires -Argentina"
   ]
  },
  {
   "cell_type": "markdown",
   "metadata": {},
   "source": [
    "Librerias"
   ]
  },
  {
   "cell_type": "code",
   "execution_count": 52,
   "metadata": {},
   "outputs": [],
   "source": [
    "import pandas as pd\n",
    "import seaborn as sns\n",
    "import matplotlib.pyplot as plt"
   ]
  },
  {
   "cell_type": "markdown",
   "metadata": {},
   "source": [
    "DataFrame 'HECHOS'"
   ]
  },
  {
   "cell_type": "code",
   "execution_count": 53,
   "metadata": {},
   "outputs": [
    {
     "data": {
      "text/html": [
       "<div>\n",
       "<style scoped>\n",
       "    .dataframe tbody tr th:only-of-type {\n",
       "        vertical-align: middle;\n",
       "    }\n",
       "\n",
       "    .dataframe tbody tr th {\n",
       "        vertical-align: top;\n",
       "    }\n",
       "\n",
       "    .dataframe thead th {\n",
       "        text-align: right;\n",
       "    }\n",
       "</style>\n",
       "<table border=\"1\" class=\"dataframe\">\n",
       "  <thead>\n",
       "    <tr style=\"text-align: right;\">\n",
       "      <th></th>\n",
       "      <th>Unnamed: 0</th>\n",
       "      <th>ID</th>\n",
       "      <th>N_VICTIMAS</th>\n",
       "      <th>FECHA</th>\n",
       "      <th>AAAA</th>\n",
       "      <th>MM</th>\n",
       "      <th>DD</th>\n",
       "      <th>HORA</th>\n",
       "      <th>HH</th>\n",
       "      <th>LUGAR_DEL_HECHO</th>\n",
       "      <th>TIPO_DE_CALLE</th>\n",
       "      <th>Calle</th>\n",
       "      <th>Altura</th>\n",
       "      <th>Cruce</th>\n",
       "      <th>Dirección Normalizada</th>\n",
       "      <th>COMUNA</th>\n",
       "      <th>XY (CABA)</th>\n",
       "      <th>pos x</th>\n",
       "      <th>pos y</th>\n",
       "      <th>PARTICIPANTES</th>\n",
       "      <th>VICTIMA</th>\n",
       "      <th>ACUSADO</th>\n",
       "    </tr>\n",
       "  </thead>\n",
       "  <tbody>\n",
       "    <tr>\n",
       "      <th>0</th>\n",
       "      <td>0</td>\n",
       "      <td>2016-0001</td>\n",
       "      <td>1</td>\n",
       "      <td>2016-01-01</td>\n",
       "      <td>2016</td>\n",
       "      <td>1</td>\n",
       "      <td>1</td>\n",
       "      <td>04:00:00</td>\n",
       "      <td>4</td>\n",
       "      <td>AV PIEDRA BUENA Y AV FERNANDEZ DE LA CRUZ</td>\n",
       "      <td>AVENIDA</td>\n",
       "      <td>PIEDRA BUENA AV.</td>\n",
       "      <td>NaN</td>\n",
       "      <td>FERNANDEZ DE LA CRUZ, F., GRAL. AV.</td>\n",
       "      <td>PIEDRA BUENA AV. y FERNANDEZ DE LA CRUZ, F., G...</td>\n",
       "      <td>8</td>\n",
       "      <td>Point (98896.78238426 93532.43437792)</td>\n",
       "      <td>-58.47533969</td>\n",
       "      <td>-34.68757022</td>\n",
       "      <td>MOTO-AUTO</td>\n",
       "      <td>MOTO</td>\n",
       "      <td>AUTO</td>\n",
       "    </tr>\n",
       "  </tbody>\n",
       "</table>\n",
       "</div>"
      ],
      "text/plain": [
       "   Unnamed: 0         ID  N_VICTIMAS       FECHA  AAAA  MM  DD      HORA HH  \\\n",
       "0           0  2016-0001           1  2016-01-01  2016   1   1  04:00:00  4   \n",
       "\n",
       "                             LUGAR_DEL_HECHO TIPO_DE_CALLE             Calle  \\\n",
       "0  AV PIEDRA BUENA Y AV FERNANDEZ DE LA CRUZ       AVENIDA  PIEDRA BUENA AV.   \n",
       "\n",
       "   Altura                                Cruce  \\\n",
       "0     NaN  FERNANDEZ DE LA CRUZ, F., GRAL. AV.   \n",
       "\n",
       "                               Dirección Normalizada  COMUNA  \\\n",
       "0  PIEDRA BUENA AV. y FERNANDEZ DE LA CRUZ, F., G...       8   \n",
       "\n",
       "                               XY (CABA)         pos x         pos y  \\\n",
       "0  Point (98896.78238426 93532.43437792)  -58.47533969  -34.68757022   \n",
       "\n",
       "  PARTICIPANTES VICTIMA ACUSADO  \n",
       "0     MOTO-AUTO    MOTO    AUTO  "
      ]
     },
     "execution_count": 53,
     "metadata": {},
     "output_type": "execute_result"
    }
   ],
   "source": [
    "df1 = pd.read_excel('Datasets/homicidios.xlsx')\n",
    "df1.to_csv('Datasets/homicidios.csv')\n",
    "df_hechos = pd.read_csv('Datasets/homicidios.csv')\n",
    "df_hechos.head(1)\n"
   ]
  },
  {
   "cell_type": "markdown",
   "metadata": {},
   "source": [
    "DataFrame 'VICTIMAS'"
   ]
  },
  {
   "cell_type": "code",
   "execution_count": 54,
   "metadata": {},
   "outputs": [
    {
     "data": {
      "text/html": [
       "<div>\n",
       "<style scoped>\n",
       "    .dataframe tbody tr th:only-of-type {\n",
       "        vertical-align: middle;\n",
       "    }\n",
       "\n",
       "    .dataframe tbody tr th {\n",
       "        vertical-align: top;\n",
       "    }\n",
       "\n",
       "    .dataframe thead th {\n",
       "        text-align: right;\n",
       "    }\n",
       "</style>\n",
       "<table border=\"1\" class=\"dataframe\">\n",
       "  <thead>\n",
       "    <tr style=\"text-align: right;\">\n",
       "      <th></th>\n",
       "      <th>Unnamed: 0</th>\n",
       "      <th>ID_hecho</th>\n",
       "      <th>FECHA</th>\n",
       "      <th>AAAA</th>\n",
       "      <th>MM</th>\n",
       "      <th>DD</th>\n",
       "      <th>ROL</th>\n",
       "      <th>VICTIMA</th>\n",
       "      <th>SEXO</th>\n",
       "      <th>EDAD</th>\n",
       "      <th>FECHA_FALLECIMIENTO</th>\n",
       "    </tr>\n",
       "  </thead>\n",
       "  <tbody>\n",
       "    <tr>\n",
       "      <th>0</th>\n",
       "      <td>0</td>\n",
       "      <td>2016-0001</td>\n",
       "      <td>2016-01-01</td>\n",
       "      <td>2016</td>\n",
       "      <td>1</td>\n",
       "      <td>1</td>\n",
       "      <td>CONDUCTOR</td>\n",
       "      <td>MOTO</td>\n",
       "      <td>MASCULINO</td>\n",
       "      <td>19</td>\n",
       "      <td>2016-01-01 00:00:00</td>\n",
       "    </tr>\n",
       "  </tbody>\n",
       "</table>\n",
       "</div>"
      ],
      "text/plain": [
       "   Unnamed: 0   ID_hecho       FECHA  AAAA  MM  DD        ROL VICTIMA  \\\n",
       "0           0  2016-0001  2016-01-01  2016   1   1  CONDUCTOR    MOTO   \n",
       "\n",
       "        SEXO EDAD  FECHA_FALLECIMIENTO  \n",
       "0  MASCULINO   19  2016-01-01 00:00:00  "
      ]
     },
     "execution_count": 54,
     "metadata": {},
     "output_type": "execute_result"
    }
   ],
   "source": [
    "df2 = pd.read_excel('Datasets/homicidios.xlsx', sheet_name= 'VICTIMAS')\n",
    "df2.to_csv('Datasets/victimas.csv')\n",
    "df_victimas = pd.read_csv('Datasets/victimas.csv')\n",
    "\n",
    "df_victimas.head(1)"
   ]
  },
  {
   "cell_type": "markdown",
   "metadata": {},
   "source": [
    "Se realiza un merge de ambos Datasets para tener centralizada la informacion"
   ]
  },
  {
   "cell_type": "code",
   "execution_count": null,
   "metadata": {},
   "outputs": [],
   "source": []
  },
  {
   "cell_type": "code",
   "execution_count": 55,
   "metadata": {},
   "outputs": [],
   "source": [
    "df = pd.merge(df_hechos, df_victimas, left_on='ID', right_on='ID_hecho')\n",
    "df = pd.merge(df_hechos, df_victimas, left_on='ID', right_on='ID_hecho', how='inner')\n",
    "df.set_index('ID', inplace=True)\n",
    "#df = df.drop('ID_hecho', axis=1)"
   ]
  },
  {
   "cell_type": "code",
   "execution_count": 56,
   "metadata": {},
   "outputs": [
    {
     "data": {
      "text/html": [
       "<div>\n",
       "<style scoped>\n",
       "    .dataframe tbody tr th:only-of-type {\n",
       "        vertical-align: middle;\n",
       "    }\n",
       "\n",
       "    .dataframe tbody tr th {\n",
       "        vertical-align: top;\n",
       "    }\n",
       "\n",
       "    .dataframe thead th {\n",
       "        text-align: right;\n",
       "    }\n",
       "</style>\n",
       "<table border=\"1\" class=\"dataframe\">\n",
       "  <thead>\n",
       "    <tr style=\"text-align: right;\">\n",
       "      <th></th>\n",
       "      <th>Unnamed: 0_x</th>\n",
       "      <th>N_VICTIMAS</th>\n",
       "      <th>FECHA_x</th>\n",
       "      <th>AAAA_x</th>\n",
       "      <th>MM_x</th>\n",
       "      <th>DD_x</th>\n",
       "      <th>HORA</th>\n",
       "      <th>HH</th>\n",
       "      <th>LUGAR_DEL_HECHO</th>\n",
       "      <th>TIPO_DE_CALLE</th>\n",
       "      <th>Calle</th>\n",
       "      <th>Altura</th>\n",
       "      <th>Cruce</th>\n",
       "      <th>Dirección Normalizada</th>\n",
       "      <th>COMUNA</th>\n",
       "      <th>XY (CABA)</th>\n",
       "      <th>pos x</th>\n",
       "      <th>pos y</th>\n",
       "      <th>PARTICIPANTES</th>\n",
       "      <th>VICTIMA_x</th>\n",
       "      <th>ACUSADO</th>\n",
       "      <th>Unnamed: 0_y</th>\n",
       "      <th>ID_hecho</th>\n",
       "      <th>FECHA_y</th>\n",
       "      <th>AAAA_y</th>\n",
       "      <th>MM_y</th>\n",
       "      <th>DD_y</th>\n",
       "      <th>ROL</th>\n",
       "      <th>VICTIMA_y</th>\n",
       "      <th>SEXO</th>\n",
       "      <th>EDAD</th>\n",
       "      <th>FECHA_FALLECIMIENTO</th>\n",
       "    </tr>\n",
       "    <tr>\n",
       "      <th>ID</th>\n",
       "      <th></th>\n",
       "      <th></th>\n",
       "      <th></th>\n",
       "      <th></th>\n",
       "      <th></th>\n",
       "      <th></th>\n",
       "      <th></th>\n",
       "      <th></th>\n",
       "      <th></th>\n",
       "      <th></th>\n",
       "      <th></th>\n",
       "      <th></th>\n",
       "      <th></th>\n",
       "      <th></th>\n",
       "      <th></th>\n",
       "      <th></th>\n",
       "      <th></th>\n",
       "      <th></th>\n",
       "      <th></th>\n",
       "      <th></th>\n",
       "      <th></th>\n",
       "      <th></th>\n",
       "      <th></th>\n",
       "      <th></th>\n",
       "      <th></th>\n",
       "      <th></th>\n",
       "      <th></th>\n",
       "      <th></th>\n",
       "      <th></th>\n",
       "      <th></th>\n",
       "      <th></th>\n",
       "      <th></th>\n",
       "    </tr>\n",
       "  </thead>\n",
       "  <tbody>\n",
       "    <tr>\n",
       "      <th>2016-0001</th>\n",
       "      <td>0</td>\n",
       "      <td>1</td>\n",
       "      <td>2016-01-01</td>\n",
       "      <td>2016</td>\n",
       "      <td>1</td>\n",
       "      <td>1</td>\n",
       "      <td>04:00:00</td>\n",
       "      <td>4</td>\n",
       "      <td>AV PIEDRA BUENA Y AV FERNANDEZ DE LA CRUZ</td>\n",
       "      <td>AVENIDA</td>\n",
       "      <td>PIEDRA BUENA AV.</td>\n",
       "      <td>NaN</td>\n",
       "      <td>FERNANDEZ DE LA CRUZ, F., GRAL. AV.</td>\n",
       "      <td>PIEDRA BUENA AV. y FERNANDEZ DE LA CRUZ, F., G...</td>\n",
       "      <td>8</td>\n",
       "      <td>Point (98896.78238426 93532.43437792)</td>\n",
       "      <td>-58.47533969</td>\n",
       "      <td>-34.68757022</td>\n",
       "      <td>MOTO-AUTO</td>\n",
       "      <td>MOTO</td>\n",
       "      <td>AUTO</td>\n",
       "      <td>0</td>\n",
       "      <td>2016-0001</td>\n",
       "      <td>2016-01-01</td>\n",
       "      <td>2016</td>\n",
       "      <td>1</td>\n",
       "      <td>1</td>\n",
       "      <td>CONDUCTOR</td>\n",
       "      <td>MOTO</td>\n",
       "      <td>MASCULINO</td>\n",
       "      <td>19</td>\n",
       "      <td>2016-01-01 00:00:00</td>\n",
       "    </tr>\n",
       "    <tr>\n",
       "      <th>2016-0002</th>\n",
       "      <td>1</td>\n",
       "      <td>1</td>\n",
       "      <td>2016-01-02</td>\n",
       "      <td>2016</td>\n",
       "      <td>1</td>\n",
       "      <td>2</td>\n",
       "      <td>01:15:00</td>\n",
       "      <td>1</td>\n",
       "      <td>AV GRAL PAZ  Y AV DE LOS CORRALES</td>\n",
       "      <td>GRAL PAZ</td>\n",
       "      <td>PAZ, GRAL. AV.</td>\n",
       "      <td>NaN</td>\n",
       "      <td>DE LOS CORRALES AV.</td>\n",
       "      <td>PAZ, GRAL. AV. y DE LOS CORRALES AV.</td>\n",
       "      <td>9</td>\n",
       "      <td>Point (95832.05571093 95505.41641999)</td>\n",
       "      <td>-58.50877521</td>\n",
       "      <td>-34.66977709</td>\n",
       "      <td>AUTO-PASAJEROS</td>\n",
       "      <td>AUTO</td>\n",
       "      <td>PASAJEROS</td>\n",
       "      <td>1</td>\n",
       "      <td>2016-0002</td>\n",
       "      <td>2016-01-02</td>\n",
       "      <td>2016</td>\n",
       "      <td>1</td>\n",
       "      <td>2</td>\n",
       "      <td>CONDUCTOR</td>\n",
       "      <td>AUTO</td>\n",
       "      <td>MASCULINO</td>\n",
       "      <td>70</td>\n",
       "      <td>2016-01-02 00:00:00</td>\n",
       "    </tr>\n",
       "  </tbody>\n",
       "</table>\n",
       "</div>"
      ],
      "text/plain": [
       "           Unnamed: 0_x  N_VICTIMAS     FECHA_x  AAAA_x  MM_x  DD_x      HORA  \\\n",
       "ID                                                                              \n",
       "2016-0001             0           1  2016-01-01    2016     1     1  04:00:00   \n",
       "2016-0002             1           1  2016-01-02    2016     1     2  01:15:00   \n",
       "\n",
       "          HH                            LUGAR_DEL_HECHO TIPO_DE_CALLE  \\\n",
       "ID                                                                      \n",
       "2016-0001  4  AV PIEDRA BUENA Y AV FERNANDEZ DE LA CRUZ       AVENIDA   \n",
       "2016-0002  1          AV GRAL PAZ  Y AV DE LOS CORRALES      GRAL PAZ   \n",
       "\n",
       "                      Calle  Altura                                Cruce  \\\n",
       "ID                                                                         \n",
       "2016-0001  PIEDRA BUENA AV.     NaN  FERNANDEZ DE LA CRUZ, F., GRAL. AV.   \n",
       "2016-0002    PAZ, GRAL. AV.     NaN                  DE LOS CORRALES AV.   \n",
       "\n",
       "                                       Dirección Normalizada  COMUNA  \\\n",
       "ID                                                                     \n",
       "2016-0001  PIEDRA BUENA AV. y FERNANDEZ DE LA CRUZ, F., G...       8   \n",
       "2016-0002               PAZ, GRAL. AV. y DE LOS CORRALES AV.       9   \n",
       "\n",
       "                                       XY (CABA)         pos x         pos y  \\\n",
       "ID                                                                             \n",
       "2016-0001  Point (98896.78238426 93532.43437792)  -58.47533969  -34.68757022   \n",
       "2016-0002  Point (95832.05571093 95505.41641999)  -58.50877521  -34.66977709   \n",
       "\n",
       "            PARTICIPANTES VICTIMA_x    ACUSADO  Unnamed: 0_y   ID_hecho  \\\n",
       "ID                                                                        \n",
       "2016-0001       MOTO-AUTO      MOTO       AUTO             0  2016-0001   \n",
       "2016-0002  AUTO-PASAJEROS      AUTO  PASAJEROS             1  2016-0002   \n",
       "\n",
       "              FECHA_y  AAAA_y  MM_y  DD_y        ROL VICTIMA_y       SEXO  \\\n",
       "ID                                                                          \n",
       "2016-0001  2016-01-01    2016     1     1  CONDUCTOR      MOTO  MASCULINO   \n",
       "2016-0002  2016-01-02    2016     1     2  CONDUCTOR      AUTO  MASCULINO   \n",
       "\n",
       "          EDAD  FECHA_FALLECIMIENTO  \n",
       "ID                                   \n",
       "2016-0001   19  2016-01-01 00:00:00  \n",
       "2016-0002   70  2016-01-02 00:00:00  "
      ]
     },
     "execution_count": 56,
     "metadata": {},
     "output_type": "execute_result"
    }
   ],
   "source": [
    "df.head(2)"
   ]
  },
  {
   "cell_type": "markdown",
   "metadata": {},
   "source": [
    "Se revisan los valores nulos"
   ]
  },
  {
   "cell_type": "code",
   "execution_count": 57,
   "metadata": {},
   "outputs": [
    {
     "data": {
      "text/plain": [
       "Unnamed: 0_x               0\n",
       "N_VICTIMAS                 0\n",
       "FECHA_x                    0\n",
       "AAAA_x                     0\n",
       "MM_x                       0\n",
       "DD_x                       0\n",
       "HORA                       0\n",
       "HH                         0\n",
       "LUGAR_DEL_HECHO            0\n",
       "TIPO_DE_CALLE              0\n",
       "Calle                      1\n",
       "Altura                   584\n",
       "Cruce                    177\n",
       "Dirección Normalizada      9\n",
       "COMUNA                     0\n",
       "XY (CABA)                  0\n",
       "pos x                      0\n",
       "pos y                      0\n",
       "PARTICIPANTES              0\n",
       "VICTIMA_x                  0\n",
       "ACUSADO                    0\n",
       "Unnamed: 0_y               0\n",
       "ID_hecho                   0\n",
       "FECHA_y                    0\n",
       "AAAA_y                     0\n",
       "MM_y                       0\n",
       "DD_y                       0\n",
       "ROL                        0\n",
       "VICTIMA_y                  0\n",
       "SEXO                       0\n",
       "EDAD                       0\n",
       "FECHA_FALLECIMIENTO        0\n",
       "dtype: int64"
      ]
     },
     "execution_count": 57,
     "metadata": {},
     "output_type": "execute_result"
    }
   ],
   "source": [
    "df.isna().sum()"
   ]
  },
  {
   "cell_type": "markdown",
   "metadata": {},
   "source": [
    "Se verifican si hay duplicados"
   ]
  },
  {
   "cell_type": "code",
   "execution_count": 58,
   "metadata": {},
   "outputs": [
    {
     "data": {
      "text/plain": [
       "0"
      ]
     },
     "execution_count": 58,
     "metadata": {},
     "output_type": "execute_result"
    }
   ],
   "source": [
    "df.duplicated().sum()"
   ]
  },
  {
   "cell_type": "code",
   "execution_count": 59,
   "metadata": {},
   "outputs": [],
   "source": [
    "df.drop(columns=['Unnamed: 0_x', 'ID_hecho', 'Unnamed: 0_y','FECHA_y','XY (CABA)', 'Dirección Normalizada', 'AAAA_y', 'MM_y', 'DD_y','VICTIMA_y', 'FECHA_FALLECIMIENTO'], inplace = True)\n"
   ]
  },
  {
   "cell_type": "code",
   "execution_count": 60,
   "metadata": {},
   "outputs": [
    {
     "data": {
      "text/html": [
       "<div>\n",
       "<style scoped>\n",
       "    .dataframe tbody tr th:only-of-type {\n",
       "        vertical-align: middle;\n",
       "    }\n",
       "\n",
       "    .dataframe tbody tr th {\n",
       "        vertical-align: top;\n",
       "    }\n",
       "\n",
       "    .dataframe thead th {\n",
       "        text-align: right;\n",
       "    }\n",
       "</style>\n",
       "<table border=\"1\" class=\"dataframe\">\n",
       "  <thead>\n",
       "    <tr style=\"text-align: right;\">\n",
       "      <th></th>\n",
       "      <th>N_VICTIMAS</th>\n",
       "      <th>FECHA_x</th>\n",
       "      <th>AAAA_x</th>\n",
       "      <th>MM_x</th>\n",
       "      <th>DD_x</th>\n",
       "      <th>HORA</th>\n",
       "      <th>HH</th>\n",
       "      <th>LUGAR_DEL_HECHO</th>\n",
       "      <th>TIPO_DE_CALLE</th>\n",
       "      <th>Calle</th>\n",
       "      <th>Altura</th>\n",
       "      <th>Cruce</th>\n",
       "      <th>COMUNA</th>\n",
       "      <th>pos x</th>\n",
       "      <th>pos y</th>\n",
       "      <th>PARTICIPANTES</th>\n",
       "      <th>VICTIMA_x</th>\n",
       "      <th>ACUSADO</th>\n",
       "      <th>ROL</th>\n",
       "      <th>SEXO</th>\n",
       "      <th>EDAD</th>\n",
       "    </tr>\n",
       "    <tr>\n",
       "      <th>ID</th>\n",
       "      <th></th>\n",
       "      <th></th>\n",
       "      <th></th>\n",
       "      <th></th>\n",
       "      <th></th>\n",
       "      <th></th>\n",
       "      <th></th>\n",
       "      <th></th>\n",
       "      <th></th>\n",
       "      <th></th>\n",
       "      <th></th>\n",
       "      <th></th>\n",
       "      <th></th>\n",
       "      <th></th>\n",
       "      <th></th>\n",
       "      <th></th>\n",
       "      <th></th>\n",
       "      <th></th>\n",
       "      <th></th>\n",
       "      <th></th>\n",
       "      <th></th>\n",
       "    </tr>\n",
       "  </thead>\n",
       "  <tbody>\n",
       "    <tr>\n",
       "      <th>2016-0001</th>\n",
       "      <td>1</td>\n",
       "      <td>2016-01-01</td>\n",
       "      <td>2016</td>\n",
       "      <td>1</td>\n",
       "      <td>1</td>\n",
       "      <td>04:00:00</td>\n",
       "      <td>4</td>\n",
       "      <td>AV PIEDRA BUENA Y AV FERNANDEZ DE LA CRUZ</td>\n",
       "      <td>AVENIDA</td>\n",
       "      <td>PIEDRA BUENA AV.</td>\n",
       "      <td>NaN</td>\n",
       "      <td>FERNANDEZ DE LA CRUZ, F., GRAL. AV.</td>\n",
       "      <td>8</td>\n",
       "      <td>-58.47533969</td>\n",
       "      <td>-34.68757022</td>\n",
       "      <td>MOTO-AUTO</td>\n",
       "      <td>MOTO</td>\n",
       "      <td>AUTO</td>\n",
       "      <td>CONDUCTOR</td>\n",
       "      <td>MASCULINO</td>\n",
       "      <td>19</td>\n",
       "    </tr>\n",
       "    <tr>\n",
       "      <th>2016-0002</th>\n",
       "      <td>1</td>\n",
       "      <td>2016-01-02</td>\n",
       "      <td>2016</td>\n",
       "      <td>1</td>\n",
       "      <td>2</td>\n",
       "      <td>01:15:00</td>\n",
       "      <td>1</td>\n",
       "      <td>AV GRAL PAZ  Y AV DE LOS CORRALES</td>\n",
       "      <td>GRAL PAZ</td>\n",
       "      <td>PAZ, GRAL. AV.</td>\n",
       "      <td>NaN</td>\n",
       "      <td>DE LOS CORRALES AV.</td>\n",
       "      <td>9</td>\n",
       "      <td>-58.50877521</td>\n",
       "      <td>-34.66977709</td>\n",
       "      <td>AUTO-PASAJEROS</td>\n",
       "      <td>AUTO</td>\n",
       "      <td>PASAJEROS</td>\n",
       "      <td>CONDUCTOR</td>\n",
       "      <td>MASCULINO</td>\n",
       "      <td>70</td>\n",
       "    </tr>\n",
       "  </tbody>\n",
       "</table>\n",
       "</div>"
      ],
      "text/plain": [
       "           N_VICTIMAS     FECHA_x  AAAA_x  MM_x  DD_x      HORA HH  \\\n",
       "ID                                                                   \n",
       "2016-0001           1  2016-01-01    2016     1     1  04:00:00  4   \n",
       "2016-0002           1  2016-01-02    2016     1     2  01:15:00  1   \n",
       "\n",
       "                                     LUGAR_DEL_HECHO TIPO_DE_CALLE  \\\n",
       "ID                                                                   \n",
       "2016-0001  AV PIEDRA BUENA Y AV FERNANDEZ DE LA CRUZ       AVENIDA   \n",
       "2016-0002          AV GRAL PAZ  Y AV DE LOS CORRALES      GRAL PAZ   \n",
       "\n",
       "                      Calle  Altura                                Cruce  \\\n",
       "ID                                                                         \n",
       "2016-0001  PIEDRA BUENA AV.     NaN  FERNANDEZ DE LA CRUZ, F., GRAL. AV.   \n",
       "2016-0002    PAZ, GRAL. AV.     NaN                  DE LOS CORRALES AV.   \n",
       "\n",
       "           COMUNA         pos x         pos y   PARTICIPANTES VICTIMA_x  \\\n",
       "ID                                                                        \n",
       "2016-0001       8  -58.47533969  -34.68757022       MOTO-AUTO      MOTO   \n",
       "2016-0002       9  -58.50877521  -34.66977709  AUTO-PASAJEROS      AUTO   \n",
       "\n",
       "             ACUSADO        ROL       SEXO EDAD  \n",
       "ID                                               \n",
       "2016-0001       AUTO  CONDUCTOR  MASCULINO   19  \n",
       "2016-0002  PASAJEROS  CONDUCTOR  MASCULINO   70  "
      ]
     },
     "execution_count": 60,
     "metadata": {},
     "output_type": "execute_result"
    }
   ],
   "source": [
    "df.rename(columns={'FECHA_x':'FECHA', 'AAAA_x': 'AAAA', 'MM_x': 'MM', 'DD_x': 'DD', 'VICTIMA_x':'VICTIMA'})\n",
    "df.head(2)"
   ]
  },
  {
   "cell_type": "markdown",
   "metadata": {},
   "source": [
    "Se eliminan columnas que no son necesarias"
   ]
  },
  {
   "cell_type": "code",
   "execution_count": 61,
   "metadata": {},
   "outputs": [
    {
     "data": {
      "text/html": [
       "<div>\n",
       "<style scoped>\n",
       "    .dataframe tbody tr th:only-of-type {\n",
       "        vertical-align: middle;\n",
       "    }\n",
       "\n",
       "    .dataframe tbody tr th {\n",
       "        vertical-align: top;\n",
       "    }\n",
       "\n",
       "    .dataframe thead th {\n",
       "        text-align: right;\n",
       "    }\n",
       "</style>\n",
       "<table border=\"1\" class=\"dataframe\">\n",
       "  <thead>\n",
       "    <tr style=\"text-align: right;\">\n",
       "      <th></th>\n",
       "      <th>cant_victimas</th>\n",
       "      <th>fecha</th>\n",
       "      <th>año</th>\n",
       "      <th>mes</th>\n",
       "      <th>dia</th>\n",
       "      <th>hora</th>\n",
       "      <th>franja_horaria</th>\n",
       "      <th>lugar</th>\n",
       "      <th>tipo_de_calle</th>\n",
       "      <th>calle</th>\n",
       "      <th>altura</th>\n",
       "      <th>cruce</th>\n",
       "      <th>comuna</th>\n",
       "      <th>longitud</th>\n",
       "      <th>latitud</th>\n",
       "      <th>participantes</th>\n",
       "      <th>victima</th>\n",
       "      <th>acusado</th>\n",
       "      <th>rol</th>\n",
       "      <th>sexo</th>\n",
       "      <th>edad</th>\n",
       "    </tr>\n",
       "    <tr>\n",
       "      <th>ID</th>\n",
       "      <th></th>\n",
       "      <th></th>\n",
       "      <th></th>\n",
       "      <th></th>\n",
       "      <th></th>\n",
       "      <th></th>\n",
       "      <th></th>\n",
       "      <th></th>\n",
       "      <th></th>\n",
       "      <th></th>\n",
       "      <th></th>\n",
       "      <th></th>\n",
       "      <th></th>\n",
       "      <th></th>\n",
       "      <th></th>\n",
       "      <th></th>\n",
       "      <th></th>\n",
       "      <th></th>\n",
       "      <th></th>\n",
       "      <th></th>\n",
       "      <th></th>\n",
       "    </tr>\n",
       "  </thead>\n",
       "  <tbody>\n",
       "    <tr>\n",
       "      <th>2016-0001</th>\n",
       "      <td>1</td>\n",
       "      <td>2016-01-01</td>\n",
       "      <td>2016</td>\n",
       "      <td>1</td>\n",
       "      <td>1</td>\n",
       "      <td>04:00:00</td>\n",
       "      <td>4</td>\n",
       "      <td>AV PIEDRA BUENA Y AV FERNANDEZ DE LA CRUZ</td>\n",
       "      <td>AVENIDA</td>\n",
       "      <td>PIEDRA BUENA AV.</td>\n",
       "      <td>NaN</td>\n",
       "      <td>FERNANDEZ DE LA CRUZ, F., GRAL. AV.</td>\n",
       "      <td>8</td>\n",
       "      <td>-58.47533969</td>\n",
       "      <td>-34.68757022</td>\n",
       "      <td>MOTO-AUTO</td>\n",
       "      <td>MOTO</td>\n",
       "      <td>AUTO</td>\n",
       "      <td>CONDUCTOR</td>\n",
       "      <td>MASCULINO</td>\n",
       "      <td>19</td>\n",
       "    </tr>\n",
       "    <tr>\n",
       "      <th>2016-0002</th>\n",
       "      <td>1</td>\n",
       "      <td>2016-01-02</td>\n",
       "      <td>2016</td>\n",
       "      <td>1</td>\n",
       "      <td>2</td>\n",
       "      <td>01:15:00</td>\n",
       "      <td>1</td>\n",
       "      <td>AV GRAL PAZ  Y AV DE LOS CORRALES</td>\n",
       "      <td>GRAL PAZ</td>\n",
       "      <td>PAZ, GRAL. AV.</td>\n",
       "      <td>NaN</td>\n",
       "      <td>DE LOS CORRALES AV.</td>\n",
       "      <td>9</td>\n",
       "      <td>-58.50877521</td>\n",
       "      <td>-34.66977709</td>\n",
       "      <td>AUTO-PASAJEROS</td>\n",
       "      <td>AUTO</td>\n",
       "      <td>PASAJEROS</td>\n",
       "      <td>CONDUCTOR</td>\n",
       "      <td>MASCULINO</td>\n",
       "      <td>70</td>\n",
       "    </tr>\n",
       "  </tbody>\n",
       "</table>\n",
       "</div>"
      ],
      "text/plain": [
       "           cant_victimas       fecha   año  mes  dia      hora franja_horaria  \\\n",
       "ID                                                                              \n",
       "2016-0001              1  2016-01-01  2016    1    1  04:00:00              4   \n",
       "2016-0002              1  2016-01-02  2016    1    2  01:15:00              1   \n",
       "\n",
       "                                               lugar tipo_de_calle  \\\n",
       "ID                                                                   \n",
       "2016-0001  AV PIEDRA BUENA Y AV FERNANDEZ DE LA CRUZ       AVENIDA   \n",
       "2016-0002          AV GRAL PAZ  Y AV DE LOS CORRALES      GRAL PAZ   \n",
       "\n",
       "                      calle  altura                                cruce  \\\n",
       "ID                                                                         \n",
       "2016-0001  PIEDRA BUENA AV.     NaN  FERNANDEZ DE LA CRUZ, F., GRAL. AV.   \n",
       "2016-0002    PAZ, GRAL. AV.     NaN                  DE LOS CORRALES AV.   \n",
       "\n",
       "           comuna      longitud       latitud   participantes victima  \\\n",
       "ID                                                                      \n",
       "2016-0001       8  -58.47533969  -34.68757022       MOTO-AUTO    MOTO   \n",
       "2016-0002       9  -58.50877521  -34.66977709  AUTO-PASAJEROS    AUTO   \n",
       "\n",
       "             acusado        rol       sexo edad  \n",
       "ID                                               \n",
       "2016-0001       AUTO  CONDUCTOR  MASCULINO   19  \n",
       "2016-0002  PASAJEROS  CONDUCTOR  MASCULINO   70  "
      ]
     },
     "execution_count": 61,
     "metadata": {},
     "output_type": "execute_result"
    }
   ],
   "source": [
    "nombres_nuevos = {'N_VICTIMAS':'cant_victimas', 'FECHA_x':'fecha', 'AAAA_x':'año',\n",
    "                  'MM_x':'mes', 'DD_x':'dia', 'HORA':'hora', 'HH':'franja_horaria', 'LUGAR_DEL_HECHO':'lugar', 'TIPO_DE_CALLE':'tipo_de_calle',\n",
    "                  'Calle':'calle', 'Altura':'altura', 'Cruce':'cruce','COMUNA':'comuna', 'pos x':'longitud',\n",
    "                  'pos y':'latitud', 'PARTICIPANTES':'participantes', 'VICTIMA_x':'victima',\n",
    "                  'ACUSADO':'acusado', 'ROL':'rol', 'SEXO':'sexo', 'EDAD':'edad'}\n",
    "df = df.rename(columns=nombres_nuevos, index={'ID': 'id_hecho'\n",
    "                                              })\n",
    "pd.set_option('display.max_columns', None)\n",
    "\n",
    "df.head(2)"
   ]
  },
  {
   "cell_type": "markdown",
   "metadata": {},
   "source": [
    "Se verifican los tipos de datos de cada clase, para su postrior correcion"
   ]
  },
  {
   "cell_type": "code",
   "execution_count": 62,
   "metadata": {},
   "outputs": [
    {
     "name": "stdout",
     "output_type": "stream",
     "text": [
      "<class 'pandas.core.frame.DataFrame'>\n",
      "Index: 717 entries, 2016-0001 to 2021-0097\n",
      "Data columns (total 21 columns):\n",
      " #   Column          Non-Null Count  Dtype  \n",
      "---  ------          --------------  -----  \n",
      " 0   cant_victimas   717 non-null    int64  \n",
      " 1   fecha           717 non-null    object \n",
      " 2   año             717 non-null    int64  \n",
      " 3   mes             717 non-null    int64  \n",
      " 4   dia             717 non-null    int64  \n",
      " 5   hora            717 non-null    object \n",
      " 6   franja_horaria  717 non-null    object \n",
      " 7   lugar           717 non-null    object \n",
      " 8   tipo_de_calle   717 non-null    object \n",
      " 9   calle           716 non-null    object \n",
      " 10  altura          133 non-null    float64\n",
      " 11  cruce           540 non-null    object \n",
      " 12  comuna          717 non-null    int64  \n",
      " 13  longitud        717 non-null    object \n",
      " 14  latitud         717 non-null    object \n",
      " 15  participantes   717 non-null    object \n",
      " 16  victima         717 non-null    object \n",
      " 17  acusado         717 non-null    object \n",
      " 18  rol             717 non-null    object \n",
      " 19  sexo            717 non-null    object \n",
      " 20  edad            717 non-null    object \n",
      "dtypes: float64(1), int64(5), object(15)\n",
      "memory usage: 123.2+ KB\n"
     ]
    }
   ],
   "source": [
    "df.info()"
   ]
  },
  {
   "cell_type": "markdown",
   "metadata": {},
   "source": [
    "Se verifican columnas de longitud y latitud con solo '.' en sus registros"
   ]
  },
  {
   "cell_type": "code",
   "execution_count": 63,
   "metadata": {},
   "outputs": [
    {
     "data": {
      "text/plain": [
       "13"
      ]
     },
     "execution_count": 63,
     "metadata": {},
     "output_type": "execute_result"
    }
   ],
   "source": [
    "df1 = df[(df['latitud'] == '.') & (df['longitud'] == '.')]\n",
    "len(df1)\n",
    "\n"
   ]
  },
  {
   "cell_type": "markdown",
   "metadata": {},
   "source": [
    "Se reemplaza los registros que tienen punto por nulos"
   ]
  },
  {
   "cell_type": "code",
   "execution_count": 64,
   "metadata": {},
   "outputs": [
    {
     "data": {
      "text/html": [
       "<div>\n",
       "<style scoped>\n",
       "    .dataframe tbody tr th:only-of-type {\n",
       "        vertical-align: middle;\n",
       "    }\n",
       "\n",
       "    .dataframe tbody tr th {\n",
       "        vertical-align: top;\n",
       "    }\n",
       "\n",
       "    .dataframe thead th {\n",
       "        text-align: right;\n",
       "    }\n",
       "</style>\n",
       "<table border=\"1\" class=\"dataframe\">\n",
       "  <thead>\n",
       "    <tr style=\"text-align: right;\">\n",
       "      <th></th>\n",
       "      <th>cant_victimas</th>\n",
       "      <th>fecha</th>\n",
       "      <th>año</th>\n",
       "      <th>mes</th>\n",
       "      <th>dia</th>\n",
       "      <th>hora</th>\n",
       "      <th>franja_horaria</th>\n",
       "      <th>lugar</th>\n",
       "      <th>tipo_de_calle</th>\n",
       "      <th>calle</th>\n",
       "      <th>altura</th>\n",
       "      <th>cruce</th>\n",
       "      <th>comuna</th>\n",
       "      <th>longitud</th>\n",
       "      <th>latitud</th>\n",
       "      <th>participantes</th>\n",
       "      <th>victima</th>\n",
       "      <th>acusado</th>\n",
       "      <th>rol</th>\n",
       "      <th>sexo</th>\n",
       "      <th>edad</th>\n",
       "    </tr>\n",
       "    <tr>\n",
       "      <th>ID</th>\n",
       "      <th></th>\n",
       "      <th></th>\n",
       "      <th></th>\n",
       "      <th></th>\n",
       "      <th></th>\n",
       "      <th></th>\n",
       "      <th></th>\n",
       "      <th></th>\n",
       "      <th></th>\n",
       "      <th></th>\n",
       "      <th></th>\n",
       "      <th></th>\n",
       "      <th></th>\n",
       "      <th></th>\n",
       "      <th></th>\n",
       "      <th></th>\n",
       "      <th></th>\n",
       "      <th></th>\n",
       "      <th></th>\n",
       "      <th></th>\n",
       "      <th></th>\n",
       "    </tr>\n",
       "  </thead>\n",
       "  <tbody>\n",
       "    <tr>\n",
       "      <th>2016-0052</th>\n",
       "      <td>1</td>\n",
       "      <td>2016-04-20</td>\n",
       "      <td>2016</td>\n",
       "      <td>4</td>\n",
       "      <td>20</td>\n",
       "      <td>20:00:00</td>\n",
       "      <td>20</td>\n",
       "      <td>AUTOPISTA LUGONES PK 10000</td>\n",
       "      <td>AUTOPISTA</td>\n",
       "      <td>LUGONES, LEOPOLDO AV.</td>\n",
       "      <td>NaN</td>\n",
       "      <td>NaN</td>\n",
       "      <td>13</td>\n",
       "      <td>.</td>\n",
       "      <td>.</td>\n",
       "      <td>MOTO-SD</td>\n",
       "      <td>MOTO</td>\n",
       "      <td>SD</td>\n",
       "      <td>SD</td>\n",
       "      <td>SD</td>\n",
       "      <td>SD</td>\n",
       "    </tr>\n",
       "  </tbody>\n",
       "</table>\n",
       "</div>"
      ],
      "text/plain": [
       "           cant_victimas       fecha   año  mes  dia      hora franja_horaria  \\\n",
       "ID                                                                              \n",
       "2016-0052              1  2016-04-20  2016    4   20  20:00:00             20   \n",
       "\n",
       "                                lugar tipo_de_calle                  calle  \\\n",
       "ID                                                                           \n",
       "2016-0052  AUTOPISTA LUGONES PK 10000     AUTOPISTA  LUGONES, LEOPOLDO AV.   \n",
       "\n",
       "           altura cruce  comuna longitud latitud participantes victima  \\\n",
       "ID                                                                       \n",
       "2016-0052     NaN   NaN      13        .       .       MOTO-SD    MOTO   \n",
       "\n",
       "          acusado rol sexo edad  \n",
       "ID                               \n",
       "2016-0052      SD  SD   SD   SD  "
      ]
     },
     "execution_count": 64,
     "metadata": {},
     "output_type": "execute_result"
    }
   ],
   "source": [
    "df1.head(1)"
   ]
  },
  {
   "cell_type": "code",
   "execution_count": 65,
   "metadata": {},
   "outputs": [],
   "source": [
    "def reemplazar_punto(registro):\n",
    "    if registro == '.':\n",
    "        return None\n",
    "    else:\n",
    "        return float(registro)\n"
   ]
  },
  {
   "cell_type": "code",
   "execution_count": 66,
   "metadata": {},
   "outputs": [],
   "source": [
    "df['latitud'] = df['latitud'].apply(reemplazar_punto)\n",
    "df['longitud'] = df['longitud'].apply(reemplazar_punto)"
   ]
  },
  {
   "cell_type": "code",
   "execution_count": 67,
   "metadata": {},
   "outputs": [],
   "source": [
    "df[['latitud', 'longitud']] = df[['latitud', 'longitud']].astype(float)"
   ]
  },
  {
   "cell_type": "markdown",
   "metadata": {},
   "source": [
    "Se verifican valores 'SD' en la columna franja horaria"
   ]
  },
  {
   "cell_type": "code",
   "execution_count": 68,
   "metadata": {},
   "outputs": [],
   "source": [
    "def cambiar_int(franja_horaria):\n",
    "    if franja_horaria == 'SD':\n",
    "        return 12\n",
    "    else:\n",
    "        franja_horaria = int(franja_horaria)\n",
    "        return franja_horaria"
   ]
  },
  {
   "cell_type": "code",
   "execution_count": 69,
   "metadata": {},
   "outputs": [],
   "source": [
    "df['franja_horaria'] = df['franja_horaria'].apply(cambiar_int)"
   ]
  },
  {
   "cell_type": "code",
   "execution_count": 70,
   "metadata": {},
   "outputs": [],
   "source": [
    "def cambiar_tipo(hora):\n",
    "    if hora == 'SD':\n",
    "        return None\n",
    "    else:\n",
    "       return hora"
   ]
  },
  {
   "cell_type": "code",
   "execution_count": 71,
   "metadata": {},
   "outputs": [],
   "source": [
    "df['hora'] = df['hora'].apply(cambiar_tipo)"
   ]
  },
  {
   "cell_type": "code",
   "execution_count": 78,
   "metadata": {},
   "outputs": [],
   "source": [
    "df['hora'] = pd.to_datetime(df['hora'])\n",
    "   "
   ]
  },
  {
   "cell_type": "code",
   "execution_count": 79,
   "metadata": {},
   "outputs": [
    {
     "name": "stdout",
     "output_type": "stream",
     "text": [
      "<class 'pandas.core.frame.DataFrame'>\n",
      "Index: 717 entries, 2016-0001 to 2021-0097\n",
      "Data columns (total 22 columns):\n",
      " #   Column            Non-Null Count  Dtype         \n",
      "---  ------            --------------  -----         \n",
      " 0   cant_victimas     717 non-null    int64         \n",
      " 1   fecha             717 non-null    object        \n",
      " 2   año               717 non-null    int64         \n",
      " 3   mes               717 non-null    int64         \n",
      " 4   dia               717 non-null    int64         \n",
      " 5   hora              716 non-null    datetime64[ns]\n",
      " 6   franja_horaria    717 non-null    int64         \n",
      " 7   lugar             717 non-null    object        \n",
      " 8   tipo_de_calle     717 non-null    object        \n",
      " 9   calle             716 non-null    object        \n",
      " 10  altura            133 non-null    float64       \n",
      " 11  cruce             540 non-null    object        \n",
      " 12  comuna            717 non-null    int64         \n",
      " 13  longitud          704 non-null    float64       \n",
      " 14  latitud           704 non-null    float64       \n",
      " 15  participantes     717 non-null    object        \n",
      " 16  victima           717 non-null    object        \n",
      " 17  acusado           717 non-null    object        \n",
      " 18  rol               717 non-null    object        \n",
      " 19  sexo              717 non-null    object        \n",
      " 20  edad              717 non-null    object        \n",
      " 21  dia_de_la_semana  717 non-null    object        \n",
      "dtypes: datetime64[ns](1), float64(3), int64(6), object(12)\n",
      "memory usage: 145.0+ KB\n"
     ]
    }
   ],
   "source": [
    "df.info()"
   ]
  },
  {
   "cell_type": "markdown",
   "metadata": {},
   "source": [
    "Se adiciona una columna relacionado la fecha al dia de la semana\n"
   ]
  },
  {
   "cell_type": "code",
   "execution_count": 74,
   "metadata": {},
   "outputs": [],
   "source": [
    "df['fecha'] = pd.to_datetime(df['fecha'], format='%Y-%m-%d', errors='coerce')"
   ]
  },
  {
   "cell_type": "code",
   "execution_count": 75,
   "metadata": {},
   "outputs": [],
   "source": [
    "df['dia_de_la_semana'] = df['fecha'].dt.day_name()\n"
   ]
  },
  {
   "cell_type": "code",
   "execution_count": 76,
   "metadata": {},
   "outputs": [],
   "source": [
    "df['fecha'] = df['fecha'].astype(str)"
   ]
  },
  {
   "cell_type": "markdown",
   "metadata": {},
   "source": [
    "Edad"
   ]
  },
  {
   "cell_type": "code",
   "execution_count": 77,
   "metadata": {},
   "outputs": [
    {
     "ename": "TypeError",
     "evalue": "Cannot convert ['19' '70' '30' '18' '29' '30' '29' '18' '22' '16' '16' '19' '59' '65'\n '59' '34' '41' '34' '30' '34' '50' '38' '21' '52' '34' '36' '20' '29'\n '20' '54' '56' '24' '41' '78' '36' '38' '30' '79' '26' '57' '37' '20'\n '20' '30' '58' '30' '23' '60' '42' '53' '30' '51' '60' '40' '87' '76'\n '57' '75' '23' '70' '35' '60' '24' '35' '29' '80' '43' '45' '57' '67'\n '29' '21' '19' '38' '21' '53' '57' '27' '24' '60' '55' '30' '43' '27'\n '49' '58' '67' '30' '37' '60' '50' '81' '29' '35' '30' '41' '25' '29'\n '30' '33' '35' '20' '46' '35' '83' '39' '29' '55' '41' '42' '83' '38'\n '29' '23' '23' '23' '29' '50' '38' '23' '29' '37' '43' '24' '21' '38'\n '35' '28' '27' '7' '18' '33' '48' '29' '36' '23' '29' '30' '4' '22' '82'\n '27' '32' '30' '43' '39' '23' '23' '19' '87' '34' '27' '70' '40' '28'\n '43' '28' '32' '30' '20' '41' '40' '43' '17' '21' '37' '22' '46' '16'\n '33' '47' '28' '20' '32' '80' '39' '30' '47' '35' '79' '61' '21' '10'\n '21' '32' '39' '80' '25' '19' '70' '55' '30' '60' '33' '95' '36' '37'\n '73' '84' '30' '73' '43' '23' '22' '58' '66' '56' '36' '87' '61' '28'\n '16' '61' '46' '18' '85' '41' '17' '10' '21' '56' '79' '1' '76' '26' '34'\n '22' '26' '20' '36' '51' '29' '39' '36' '24' '60' '57' '23' '23' '47'\n '24' '55' '60' '25' '15' '24' '22' '50' '50' '58' '49' '82' '13' '56'\n '19' '30' '76' '77' '53' '32' '27' '30' '30' '83' '26' '58' '39' '54'\n '45' '46' '32' '19' '40' '84' '20' '44' '28' '19' '31' '35' '26' '80'\n '26' '62' '28' '28' '70' '70' '24' '30' '74' '71' '26' '24' '31' '70'\n '42' '24' '39' '37' '84' '59' '61' '37' '78' '23' '25' '50' '60' '11'\n '82' '57' '40' '47' '57' '78' '43' '86' '21' '69' '33' '26' '54' '51'\n '51' '32' '28' '30' '35' '73' '81' '21' '20' '33' '27' '67' '25' '23'\n '73' '58' '27' '26' '35' '17' '45' '22' '30' '40' '75' '80' '27' '23'\n '23' '24' '32' '49' '39' '35' '55' '54' '18' '33' '20' '1' '22' '56' '27'\n '62' '37' '34' '60' '28' '28' '20' '23' '42' '48' '30' '80' '32' '51'\n '72' '33' '25' '44' '29' '27' '29' '49' '39' '37' '29' '70' '60' '56'\n '80' '70' '29' '79' '28' '78' '75' '32' '22' '25' '32' '23' '71' '43'\n '12' '35' '42' '34' '59' '31' '39' '69' '21' '40' '22' '29' '43' '23'\n '34' '32' '27' '37' '27' '25' '20' '83' '25' '75' '34' '17' '42' '28'\n '44' '78' '39' '77' '33' '26' '76' '32' '72' '21' '41' '49' '21' '47'\n '75' '63' '39' '30' '78' '58' '60' '20' '55' '40' '35' '53' '43' '25'\n '22' '29' '35' '31' '29' '28' '72' '57' '76' '67' '47' '73' '40' '20'\n '29' '41' '27' '92' '67' '35' '37' '16' '73' '23' '61' '38' '25' '18'\n '24' '23' '82' '87' '36' '44' '82' '25' '23' '52' '49' '48' '31' '66'\n '58' '29' '68' '31' '80' '74' '87' '44' '44' '53' '28' '76' '91' '80'\n '40' '29' '21' '32' '40' '72' '38' '46' '64' '44' '34' '53' '64' '43'\n '50' '41' '15' '41' '36' '28' '49' '44' '27' '59' '91' '34' '84' '57'\n '49' '69' '45' '47' '38' '21' '24' '27' '51' '71' '25' '81' '4' '42' '56'\n '39' '23' '78' '30' '24' '26' '28' '36' '47' '27' '61' '73' '23' '84'\n '28' '31' '28' '21' '41' '28' '26' '22' '33' '36' '30' '39' '68' '24' '5'\n '37' '36' '19' '26' '36' '68' '60' '33' '26' '24' '36' '58' '44' '86'\n '27' '75' '39' '50' '21' '22' '20' '59' '44' '74' '56' '73' '19' '58'\n '41' '47' '60' '46' '24' '44' '80' '55' '73' '31' '37' '63' '59' '27'\n '39' '17' '31' '88' '57' '76' '55' '65' '31' '31' '22' '32' '26' '38'\n '30' '32' '49' '75' '73' '45' '41' '73' '24' '50' '18' '43' '27' '60'\n '53'] to numeric",
     "output_type": "error",
     "traceback": [
      "\u001b[1;31m---------------------------------------------------------------------------\u001b[0m",
      "\u001b[1;31mTypeError\u001b[0m                                 Traceback (most recent call last)",
      "Cell \u001b[1;32mIn[77], line 3\u001b[0m\n\u001b[0;32m      1\u001b[0m \u001b[38;5;66;03m#se calcula la mediana de la serie edad\u001b[39;00m\n\u001b[0;32m      2\u001b[0m df_mediana \u001b[38;5;241m=\u001b[39m df[df[\u001b[38;5;124m'\u001b[39m\u001b[38;5;124medad\u001b[39m\u001b[38;5;124m'\u001b[39m] \u001b[38;5;241m!=\u001b[39m \u001b[38;5;124m'\u001b[39m\u001b[38;5;124mSD\u001b[39m\u001b[38;5;124m'\u001b[39m]\n\u001b[1;32m----> 3\u001b[0m mediana \u001b[38;5;241m=\u001b[39m \u001b[43mdf_mediana\u001b[49m\u001b[43m[\u001b[49m\u001b[38;5;124;43m'\u001b[39;49m\u001b[38;5;124;43medad\u001b[39;49m\u001b[38;5;124;43m'\u001b[39;49m\u001b[43m]\u001b[49m\u001b[38;5;241;43m.\u001b[39;49m\u001b[43mmedian\u001b[49m\u001b[43m(\u001b[49m\u001b[43m)\u001b[49m\n\u001b[0;32m      4\u001b[0m df_mediana\u001b[38;5;241m.\u001b[39mshape\n",
      "File \u001b[1;32me:\\HENRY_Labs\\Data_Analytics\\env\\Lib\\site-packages\\pandas\\core\\series.py:6539\u001b[0m, in \u001b[0;36mSeries.median\u001b[1;34m(self, axis, skipna, numeric_only, **kwargs)\u001b[0m\n\u001b[0;32m   6531\u001b[0m \u001b[38;5;129m@doc\u001b[39m(make_doc(\u001b[38;5;124m\"\u001b[39m\u001b[38;5;124mmedian\u001b[39m\u001b[38;5;124m\"\u001b[39m, ndim\u001b[38;5;241m=\u001b[39m\u001b[38;5;241m1\u001b[39m))\n\u001b[0;32m   6532\u001b[0m \u001b[38;5;28;01mdef\u001b[39;00m \u001b[38;5;21mmedian\u001b[39m(\n\u001b[0;32m   6533\u001b[0m     \u001b[38;5;28mself\u001b[39m,\n\u001b[1;32m   (...)\u001b[0m\n\u001b[0;32m   6537\u001b[0m     \u001b[38;5;241m*\u001b[39m\u001b[38;5;241m*\u001b[39mkwargs,\n\u001b[0;32m   6538\u001b[0m ):\n\u001b[1;32m-> 6539\u001b[0m     \u001b[38;5;28;01mreturn\u001b[39;00m \u001b[43mNDFrame\u001b[49m\u001b[38;5;241;43m.\u001b[39;49m\u001b[43mmedian\u001b[49m\u001b[43m(\u001b[49m\u001b[38;5;28;43mself\u001b[39;49m\u001b[43m,\u001b[49m\u001b[43m \u001b[49m\u001b[43maxis\u001b[49m\u001b[43m,\u001b[49m\u001b[43m \u001b[49m\u001b[43mskipna\u001b[49m\u001b[43m,\u001b[49m\u001b[43m \u001b[49m\u001b[43mnumeric_only\u001b[49m\u001b[43m,\u001b[49m\u001b[43m \u001b[49m\u001b[38;5;241;43m*\u001b[39;49m\u001b[38;5;241;43m*\u001b[39;49m\u001b[43mkwargs\u001b[49m\u001b[43m)\u001b[49m\n",
      "File \u001b[1;32me:\\HENRY_Labs\\Data_Analytics\\env\\Lib\\site-packages\\pandas\\core\\generic.py:12424\u001b[0m, in \u001b[0;36mNDFrame.median\u001b[1;34m(self, axis, skipna, numeric_only, **kwargs)\u001b[0m\n\u001b[0;32m  12417\u001b[0m \u001b[38;5;28;01mdef\u001b[39;00m \u001b[38;5;21mmedian\u001b[39m(\n\u001b[0;32m  12418\u001b[0m     \u001b[38;5;28mself\u001b[39m,\n\u001b[0;32m  12419\u001b[0m     axis: Axis \u001b[38;5;241m|\u001b[39m \u001b[38;5;28;01mNone\u001b[39;00m \u001b[38;5;241m=\u001b[39m \u001b[38;5;241m0\u001b[39m,\n\u001b[1;32m   (...)\u001b[0m\n\u001b[0;32m  12422\u001b[0m     \u001b[38;5;241m*\u001b[39m\u001b[38;5;241m*\u001b[39mkwargs,\n\u001b[0;32m  12423\u001b[0m ) \u001b[38;5;241m-\u001b[39m\u001b[38;5;241m>\u001b[39m Series \u001b[38;5;241m|\u001b[39m \u001b[38;5;28mfloat\u001b[39m:\n\u001b[1;32m> 12424\u001b[0m     \u001b[38;5;28;01mreturn\u001b[39;00m \u001b[38;5;28;43mself\u001b[39;49m\u001b[38;5;241;43m.\u001b[39;49m\u001b[43m_stat_function\u001b[49m\u001b[43m(\u001b[49m\n\u001b[0;32m  12425\u001b[0m \u001b[43m        \u001b[49m\u001b[38;5;124;43m\"\u001b[39;49m\u001b[38;5;124;43mmedian\u001b[39;49m\u001b[38;5;124;43m\"\u001b[39;49m\u001b[43m,\u001b[49m\u001b[43m \u001b[49m\u001b[43mnanops\u001b[49m\u001b[38;5;241;43m.\u001b[39;49m\u001b[43mnanmedian\u001b[49m\u001b[43m,\u001b[49m\u001b[43m \u001b[49m\u001b[43maxis\u001b[49m\u001b[43m,\u001b[49m\u001b[43m \u001b[49m\u001b[43mskipna\u001b[49m\u001b[43m,\u001b[49m\u001b[43m \u001b[49m\u001b[43mnumeric_only\u001b[49m\u001b[43m,\u001b[49m\u001b[43m \u001b[49m\u001b[38;5;241;43m*\u001b[39;49m\u001b[38;5;241;43m*\u001b[39;49m\u001b[43mkwargs\u001b[49m\n\u001b[0;32m  12426\u001b[0m \u001b[43m    \u001b[49m\u001b[43m)\u001b[49m\n",
      "File \u001b[1;32me:\\HENRY_Labs\\Data_Analytics\\env\\Lib\\site-packages\\pandas\\core\\generic.py:12370\u001b[0m, in \u001b[0;36mNDFrame._stat_function\u001b[1;34m(self, name, func, axis, skipna, numeric_only, **kwargs)\u001b[0m\n\u001b[0;32m  12366\u001b[0m nv\u001b[38;5;241m.\u001b[39mvalidate_func(name, (), kwargs)\n\u001b[0;32m  12368\u001b[0m validate_bool_kwarg(skipna, \u001b[38;5;124m\"\u001b[39m\u001b[38;5;124mskipna\u001b[39m\u001b[38;5;124m\"\u001b[39m, none_allowed\u001b[38;5;241m=\u001b[39m\u001b[38;5;28;01mFalse\u001b[39;00m)\n\u001b[1;32m> 12370\u001b[0m \u001b[38;5;28;01mreturn\u001b[39;00m \u001b[38;5;28;43mself\u001b[39;49m\u001b[38;5;241;43m.\u001b[39;49m\u001b[43m_reduce\u001b[49m\u001b[43m(\u001b[49m\n\u001b[0;32m  12371\u001b[0m \u001b[43m    \u001b[49m\u001b[43mfunc\u001b[49m\u001b[43m,\u001b[49m\u001b[43m \u001b[49m\u001b[43mname\u001b[49m\u001b[38;5;241;43m=\u001b[39;49m\u001b[43mname\u001b[49m\u001b[43m,\u001b[49m\u001b[43m \u001b[49m\u001b[43maxis\u001b[49m\u001b[38;5;241;43m=\u001b[39;49m\u001b[43maxis\u001b[49m\u001b[43m,\u001b[49m\u001b[43m \u001b[49m\u001b[43mskipna\u001b[49m\u001b[38;5;241;43m=\u001b[39;49m\u001b[43mskipna\u001b[49m\u001b[43m,\u001b[49m\u001b[43m \u001b[49m\u001b[43mnumeric_only\u001b[49m\u001b[38;5;241;43m=\u001b[39;49m\u001b[43mnumeric_only\u001b[49m\n\u001b[0;32m  12372\u001b[0m \u001b[43m\u001b[49m\u001b[43m)\u001b[49m\n",
      "File \u001b[1;32me:\\HENRY_Labs\\Data_Analytics\\env\\Lib\\site-packages\\pandas\\core\\series.py:6437\u001b[0m, in \u001b[0;36mSeries._reduce\u001b[1;34m(self, op, name, axis, skipna, numeric_only, filter_type, **kwds)\u001b[0m\n\u001b[0;32m   6432\u001b[0m     \u001b[38;5;66;03m# GH#47500 - change to TypeError to match other methods\u001b[39;00m\n\u001b[0;32m   6433\u001b[0m     \u001b[38;5;28;01mraise\u001b[39;00m \u001b[38;5;167;01mTypeError\u001b[39;00m(\n\u001b[0;32m   6434\u001b[0m         \u001b[38;5;124mf\u001b[39m\u001b[38;5;124m\"\u001b[39m\u001b[38;5;124mSeries.\u001b[39m\u001b[38;5;132;01m{\u001b[39;00mname\u001b[38;5;132;01m}\u001b[39;00m\u001b[38;5;124m does not allow \u001b[39m\u001b[38;5;132;01m{\u001b[39;00mkwd_name\u001b[38;5;132;01m}\u001b[39;00m\u001b[38;5;124m=\u001b[39m\u001b[38;5;132;01m{\u001b[39;00mnumeric_only\u001b[38;5;132;01m}\u001b[39;00m\u001b[38;5;124m \u001b[39m\u001b[38;5;124m\"\u001b[39m\n\u001b[0;32m   6435\u001b[0m         \u001b[38;5;124m\"\u001b[39m\u001b[38;5;124mwith non-numeric dtypes.\u001b[39m\u001b[38;5;124m\"\u001b[39m\n\u001b[0;32m   6436\u001b[0m     )\n\u001b[1;32m-> 6437\u001b[0m \u001b[38;5;28;01mreturn\u001b[39;00m \u001b[43mop\u001b[49m\u001b[43m(\u001b[49m\u001b[43mdelegate\u001b[49m\u001b[43m,\u001b[49m\u001b[43m \u001b[49m\u001b[43mskipna\u001b[49m\u001b[38;5;241;43m=\u001b[39;49m\u001b[43mskipna\u001b[49m\u001b[43m,\u001b[49m\u001b[43m \u001b[49m\u001b[38;5;241;43m*\u001b[39;49m\u001b[38;5;241;43m*\u001b[39;49m\u001b[43mkwds\u001b[49m\u001b[43m)\u001b[49m\n",
      "File \u001b[1;32me:\\HENRY_Labs\\Data_Analytics\\env\\Lib\\site-packages\\pandas\\core\\nanops.py:147\u001b[0m, in \u001b[0;36mbottleneck_switch.__call__.<locals>.f\u001b[1;34m(values, axis, skipna, **kwds)\u001b[0m\n\u001b[0;32m    145\u001b[0m         result \u001b[38;5;241m=\u001b[39m alt(values, axis\u001b[38;5;241m=\u001b[39maxis, skipna\u001b[38;5;241m=\u001b[39mskipna, \u001b[38;5;241m*\u001b[39m\u001b[38;5;241m*\u001b[39mkwds)\n\u001b[0;32m    146\u001b[0m \u001b[38;5;28;01melse\u001b[39;00m:\n\u001b[1;32m--> 147\u001b[0m     result \u001b[38;5;241m=\u001b[39m \u001b[43malt\u001b[49m\u001b[43m(\u001b[49m\u001b[43mvalues\u001b[49m\u001b[43m,\u001b[49m\u001b[43m \u001b[49m\u001b[43maxis\u001b[49m\u001b[38;5;241;43m=\u001b[39;49m\u001b[43maxis\u001b[49m\u001b[43m,\u001b[49m\u001b[43m \u001b[49m\u001b[43mskipna\u001b[49m\u001b[38;5;241;43m=\u001b[39;49m\u001b[43mskipna\u001b[49m\u001b[43m,\u001b[49m\u001b[43m \u001b[49m\u001b[38;5;241;43m*\u001b[39;49m\u001b[38;5;241;43m*\u001b[39;49m\u001b[43mkwds\u001b[49m\u001b[43m)\u001b[49m\n\u001b[0;32m    149\u001b[0m \u001b[38;5;28;01mreturn\u001b[39;00m result\n",
      "File \u001b[1;32me:\\HENRY_Labs\\Data_Analytics\\env\\Lib\\site-packages\\pandas\\core\\nanops.py:787\u001b[0m, in \u001b[0;36mnanmedian\u001b[1;34m(values, axis, skipna, mask)\u001b[0m\n\u001b[0;32m    785\u001b[0m     inferred \u001b[38;5;241m=\u001b[39m lib\u001b[38;5;241m.\u001b[39minfer_dtype(values)\n\u001b[0;32m    786\u001b[0m     \u001b[38;5;28;01mif\u001b[39;00m inferred \u001b[38;5;129;01min\u001b[39;00m [\u001b[38;5;124m\"\u001b[39m\u001b[38;5;124mstring\u001b[39m\u001b[38;5;124m\"\u001b[39m, \u001b[38;5;124m\"\u001b[39m\u001b[38;5;124mmixed\u001b[39m\u001b[38;5;124m\"\u001b[39m]:\n\u001b[1;32m--> 787\u001b[0m         \u001b[38;5;28;01mraise\u001b[39;00m \u001b[38;5;167;01mTypeError\u001b[39;00m(\u001b[38;5;124mf\u001b[39m\u001b[38;5;124m\"\u001b[39m\u001b[38;5;124mCannot convert \u001b[39m\u001b[38;5;132;01m{\u001b[39;00mvalues\u001b[38;5;132;01m}\u001b[39;00m\u001b[38;5;124m to numeric\u001b[39m\u001b[38;5;124m\"\u001b[39m)\n\u001b[0;32m    788\u001b[0m \u001b[38;5;28;01mtry\u001b[39;00m:\n\u001b[0;32m    789\u001b[0m     values \u001b[38;5;241m=\u001b[39m values\u001b[38;5;241m.\u001b[39mastype(\u001b[38;5;124m\"\u001b[39m\u001b[38;5;124mf8\u001b[39m\u001b[38;5;124m\"\u001b[39m)\n",
      "\u001b[1;31mTypeError\u001b[0m: Cannot convert ['19' '70' '30' '18' '29' '30' '29' '18' '22' '16' '16' '19' '59' '65'\n '59' '34' '41' '34' '30' '34' '50' '38' '21' '52' '34' '36' '20' '29'\n '20' '54' '56' '24' '41' '78' '36' '38' '30' '79' '26' '57' '37' '20'\n '20' '30' '58' '30' '23' '60' '42' '53' '30' '51' '60' '40' '87' '76'\n '57' '75' '23' '70' '35' '60' '24' '35' '29' '80' '43' '45' '57' '67'\n '29' '21' '19' '38' '21' '53' '57' '27' '24' '60' '55' '30' '43' '27'\n '49' '58' '67' '30' '37' '60' '50' '81' '29' '35' '30' '41' '25' '29'\n '30' '33' '35' '20' '46' '35' '83' '39' '29' '55' '41' '42' '83' '38'\n '29' '23' '23' '23' '29' '50' '38' '23' '29' '37' '43' '24' '21' '38'\n '35' '28' '27' '7' '18' '33' '48' '29' '36' '23' '29' '30' '4' '22' '82'\n '27' '32' '30' '43' '39' '23' '23' '19' '87' '34' '27' '70' '40' '28'\n '43' '28' '32' '30' '20' '41' '40' '43' '17' '21' '37' '22' '46' '16'\n '33' '47' '28' '20' '32' '80' '39' '30' '47' '35' '79' '61' '21' '10'\n '21' '32' '39' '80' '25' '19' '70' '55' '30' '60' '33' '95' '36' '37'\n '73' '84' '30' '73' '43' '23' '22' '58' '66' '56' '36' '87' '61' '28'\n '16' '61' '46' '18' '85' '41' '17' '10' '21' '56' '79' '1' '76' '26' '34'\n '22' '26' '20' '36' '51' '29' '39' '36' '24' '60' '57' '23' '23' '47'\n '24' '55' '60' '25' '15' '24' '22' '50' '50' '58' '49' '82' '13' '56'\n '19' '30' '76' '77' '53' '32' '27' '30' '30' '83' '26' '58' '39' '54'\n '45' '46' '32' '19' '40' '84' '20' '44' '28' '19' '31' '35' '26' '80'\n '26' '62' '28' '28' '70' '70' '24' '30' '74' '71' '26' '24' '31' '70'\n '42' '24' '39' '37' '84' '59' '61' '37' '78' '23' '25' '50' '60' '11'\n '82' '57' '40' '47' '57' '78' '43' '86' '21' '69' '33' '26' '54' '51'\n '51' '32' '28' '30' '35' '73' '81' '21' '20' '33' '27' '67' '25' '23'\n '73' '58' '27' '26' '35' '17' '45' '22' '30' '40' '75' '80' '27' '23'\n '23' '24' '32' '49' '39' '35' '55' '54' '18' '33' '20' '1' '22' '56' '27'\n '62' '37' '34' '60' '28' '28' '20' '23' '42' '48' '30' '80' '32' '51'\n '72' '33' '25' '44' '29' '27' '29' '49' '39' '37' '29' '70' '60' '56'\n '80' '70' '29' '79' '28' '78' '75' '32' '22' '25' '32' '23' '71' '43'\n '12' '35' '42' '34' '59' '31' '39' '69' '21' '40' '22' '29' '43' '23'\n '34' '32' '27' '37' '27' '25' '20' '83' '25' '75' '34' '17' '42' '28'\n '44' '78' '39' '77' '33' '26' '76' '32' '72' '21' '41' '49' '21' '47'\n '75' '63' '39' '30' '78' '58' '60' '20' '55' '40' '35' '53' '43' '25'\n '22' '29' '35' '31' '29' '28' '72' '57' '76' '67' '47' '73' '40' '20'\n '29' '41' '27' '92' '67' '35' '37' '16' '73' '23' '61' '38' '25' '18'\n '24' '23' '82' '87' '36' '44' '82' '25' '23' '52' '49' '48' '31' '66'\n '58' '29' '68' '31' '80' '74' '87' '44' '44' '53' '28' '76' '91' '80'\n '40' '29' '21' '32' '40' '72' '38' '46' '64' '44' '34' '53' '64' '43'\n '50' '41' '15' '41' '36' '28' '49' '44' '27' '59' '91' '34' '84' '57'\n '49' '69' '45' '47' '38' '21' '24' '27' '51' '71' '25' '81' '4' '42' '56'\n '39' '23' '78' '30' '24' '26' '28' '36' '47' '27' '61' '73' '23' '84'\n '28' '31' '28' '21' '41' '28' '26' '22' '33' '36' '30' '39' '68' '24' '5'\n '37' '36' '19' '26' '36' '68' '60' '33' '26' '24' '36' '58' '44' '86'\n '27' '75' '39' '50' '21' '22' '20' '59' '44' '74' '56' '73' '19' '58'\n '41' '47' '60' '46' '24' '44' '80' '55' '73' '31' '37' '63' '59' '27'\n '39' '17' '31' '88' '57' '76' '55' '65' '31' '31' '22' '32' '26' '38'\n '30' '32' '49' '75' '73' '45' '41' '73' '24' '50' '18' '43' '27' '60'\n '53'] to numeric"
     ]
    }
   ],
   "source": [
    "#se calcula la mediana de la serie edad\n",
    "df_mediana = df[df['edad'] != 'SD']\n",
    "mediana = df_mediana['edad'].median()\n",
    "df_mediana.shape\n",
    "\n"
   ]
  },
  {
   "cell_type": "code",
   "execution_count": null,
   "metadata": {},
   "outputs": [],
   "source": [
    "def convertir_edad_to_int(registro):\n",
    "    if registro == 'SD':\n",
    "        return int(mediana_edad)\n",
    "    else:\n",
    "        return int(registro)\n",
    "df['edad'] = df['edad'].apply(convertir_edad_to_int)\n",
    "\n",
    "#df['edad'].replace(100, mediana_edad)"
   ]
  },
  {
   "cell_type": "code",
   "execution_count": null,
   "metadata": {},
   "outputs": [
    {
     "name": "stdout",
     "output_type": "stream",
     "text": [
      "<class 'pandas.core.frame.DataFrame'>\n",
      "Index: 717 entries, 2016-0001 to 2021-0097\n",
      "Data columns (total 22 columns):\n",
      " #   Column            Non-Null Count  Dtype         \n",
      "---  ------            --------------  -----         \n",
      " 0   cant_victimas     717 non-null    int64         \n",
      " 1   fecha             717 non-null    object        \n",
      " 2   año               717 non-null    int64         \n",
      " 3   mes               717 non-null    int64         \n",
      " 4   dia               717 non-null    int64         \n",
      " 5   hora              716 non-null    datetime64[ns]\n",
      " 6   franja_horaria    717 non-null    int64         \n",
      " 7   lugar             717 non-null    object        \n",
      " 8   tipo_de_calle     717 non-null    object        \n",
      " 9   calle             716 non-null    object        \n",
      " 10  altura            133 non-null    float64       \n",
      " 11  cruce             540 non-null    object        \n",
      " 12  comuna            717 non-null    int64         \n",
      " 13  longitud          704 non-null    float64       \n",
      " 14  latitud           704 non-null    float64       \n",
      " 15  participantes     717 non-null    object        \n",
      " 16  victima           717 non-null    object        \n",
      " 17  acusado           717 non-null    object        \n",
      " 18  rol               717 non-null    object        \n",
      " 19  sexo              717 non-null    object        \n",
      " 20  edad              717 non-null    object        \n",
      " 21  dia_de_la_semana  717 non-null    object        \n",
      "dtypes: datetime64[ns](1), float64(3), int64(6), object(12)\n",
      "memory usage: 145.0+ KB\n"
     ]
    }
   ],
   "source": [
    "df.info()"
   ]
  },
  {
   "cell_type": "code",
   "execution_count": null,
   "metadata": {},
   "outputs": [
    {
     "data": {
      "text/html": [
       "<div>\n",
       "<style scoped>\n",
       "    .dataframe tbody tr th:only-of-type {\n",
       "        vertical-align: middle;\n",
       "    }\n",
       "\n",
       "    .dataframe tbody tr th {\n",
       "        vertical-align: top;\n",
       "    }\n",
       "\n",
       "    .dataframe thead th {\n",
       "        text-align: right;\n",
       "    }\n",
       "</style>\n",
       "<table border=\"1\" class=\"dataframe\">\n",
       "  <thead>\n",
       "    <tr style=\"text-align: right;\">\n",
       "      <th></th>\n",
       "      <th>cant_victimas</th>\n",
       "      <th>fecha</th>\n",
       "      <th>año</th>\n",
       "      <th>mes</th>\n",
       "      <th>dia</th>\n",
       "      <th>dia_de_la_semana</th>\n",
       "      <th>hora</th>\n",
       "      <th>franja_horaria</th>\n",
       "      <th>lugar</th>\n",
       "      <th>tipo_de_calle</th>\n",
       "      <th>calle</th>\n",
       "      <th>altura</th>\n",
       "      <th>cruce</th>\n",
       "      <th>comuna</th>\n",
       "      <th>longitud</th>\n",
       "      <th>latitud</th>\n",
       "      <th>participantes</th>\n",
       "      <th>victima</th>\n",
       "      <th>acusado</th>\n",
       "      <th>rol</th>\n",
       "      <th>sexo</th>\n",
       "      <th>edad</th>\n",
       "    </tr>\n",
       "    <tr>\n",
       "      <th>ID</th>\n",
       "      <th></th>\n",
       "      <th></th>\n",
       "      <th></th>\n",
       "      <th></th>\n",
       "      <th></th>\n",
       "      <th></th>\n",
       "      <th></th>\n",
       "      <th></th>\n",
       "      <th></th>\n",
       "      <th></th>\n",
       "      <th></th>\n",
       "      <th></th>\n",
       "      <th></th>\n",
       "      <th></th>\n",
       "      <th></th>\n",
       "      <th></th>\n",
       "      <th></th>\n",
       "      <th></th>\n",
       "      <th></th>\n",
       "      <th></th>\n",
       "      <th></th>\n",
       "      <th></th>\n",
       "    </tr>\n",
       "  </thead>\n",
       "  <tbody>\n",
       "    <tr>\n",
       "      <th>2016-0001</th>\n",
       "      <td>1</td>\n",
       "      <td>2016-01-01</td>\n",
       "      <td>2016</td>\n",
       "      <td>1</td>\n",
       "      <td>1</td>\n",
       "      <td>Friday</td>\n",
       "      <td>2024-02-10 04:00:00</td>\n",
       "      <td>4</td>\n",
       "      <td>AV PIEDRA BUENA Y AV FERNANDEZ DE LA CRUZ</td>\n",
       "      <td>AVENIDA</td>\n",
       "      <td>PIEDRA BUENA AV.</td>\n",
       "      <td>NaN</td>\n",
       "      <td>FERNANDEZ DE LA CRUZ, F., GRAL. AV.</td>\n",
       "      <td>8</td>\n",
       "      <td>-58.47534</td>\n",
       "      <td>-34.68757</td>\n",
       "      <td>MOTO-AUTO</td>\n",
       "      <td>MOTO</td>\n",
       "      <td>AUTO</td>\n",
       "      <td>CONDUCTOR</td>\n",
       "      <td>MASCULINO</td>\n",
       "      <td>19</td>\n",
       "    </tr>\n",
       "  </tbody>\n",
       "</table>\n",
       "</div>"
      ],
      "text/plain": [
       "           cant_victimas       fecha   año  mes  dia dia_de_la_semana  \\\n",
       "ID                                                                      \n",
       "2016-0001              1  2016-01-01  2016    1    1           Friday   \n",
       "\n",
       "                         hora  franja_horaria  \\\n",
       "ID                                              \n",
       "2016-0001 2024-02-10 04:00:00               4   \n",
       "\n",
       "                                               lugar tipo_de_calle  \\\n",
       "ID                                                                   \n",
       "2016-0001  AV PIEDRA BUENA Y AV FERNANDEZ DE LA CRUZ       AVENIDA   \n",
       "\n",
       "                      calle  altura                                cruce  \\\n",
       "ID                                                                         \n",
       "2016-0001  PIEDRA BUENA AV.     NaN  FERNANDEZ DE LA CRUZ, F., GRAL. AV.   \n",
       "\n",
       "           comuna  longitud   latitud participantes victima acusado  \\\n",
       "ID                                                                    \n",
       "2016-0001       8 -58.47534 -34.68757     MOTO-AUTO    MOTO    AUTO   \n",
       "\n",
       "                 rol       sexo  edad  \n",
       "ID                                     \n",
       "2016-0001  CONDUCTOR  MASCULINO    19  "
      ]
     },
     "execution_count": 520,
     "metadata": {},
     "output_type": "execute_result"
    }
   ],
   "source": [
    "column_to_move = 'dia_de_la_semana'\n",
    "new_position = 5  # Puedes ajustar este índice según tu preferencia\n",
    "current_columns = df.columns.tolist()\n",
    "current_columns.remove(column_to_move)\n",
    "current_columns.insert(new_position, column_to_move)\n",
    "df = df[current_columns]\n",
    "df.head(1)\n"
   ]
  },
  {
   "cell_type": "markdown",
   "metadata": {},
   "source": [
    "### Outliers"
   ]
  },
  {
   "cell_type": "markdown",
   "metadata": {},
   "source": [
    "Edad"
   ]
  },
  {
   "cell_type": "code",
   "execution_count": null,
   "metadata": {},
   "outputs": [
    {
     "data": {
      "image/png": "[encoded data removed]",
      "text/plain": [
       "<Figure size 640x480 with 1 Axes>"
      ]
     },
     "metadata": {},
     "output_type": "display_data"
    }
   ],
   "source": [
    "sns.boxplot(x=df['edad'])\n",
    "plt.title('Boxplot de Edades con Duplicados y NaN')\n",
    "plt.xlabel('Edad')\n",
    "plt.xlim(0,100)\n",
    "plt.show()"
   ]
  },
  {
   "cell_type": "markdown",
   "metadata": {},
   "source": []
  },
  {
   "cell_type": "markdown",
   "metadata": {},
   "source": [
    "Analiticamente usando el metodo de las tres sigmas se comprueba que no hay valores atipicos"
   ]
  },
  {
   "cell_type": "code",
   "execution_count": null,
   "metadata": {},
   "outputs": [
    {
     "data": {
      "text/plain": [
       "100.25"
      ]
     },
     "execution_count": 291,
     "metadata": {},
     "output_type": "execute_result"
    }
   ],
   "source": [
    "std = df['edad'].std()\n",
    "mu = df['edad'].mean()\n",
    "outlier = round(mu + 3*std, 2)\n",
    "outlier"
   ]
  },
  {
   "cell_type": "markdown",
   "metadata": {},
   "source": [
    "Como se observa todos aquellos valores por encima de 99, se procede a  verificar si existen valores superiores a ese rango"
   ]
  },
  {
   "cell_type": "code",
   "execution_count": null,
   "metadata": {},
   "outputs": [
    {
     "data": {
      "text/html": [
       "<div>\n",
       "<style scoped>\n",
       "    .dataframe tbody tr th:only-of-type {\n",
       "        vertical-align: middle;\n",
       "    }\n",
       "\n",
       "    .dataframe tbody tr th {\n",
       "        vertical-align: top;\n",
       "    }\n",
       "\n",
       "    .dataframe thead th {\n",
       "        text-align: right;\n",
       "    }\n",
       "</style>\n",
       "<table border=\"1\" class=\"dataframe\">\n",
       "  <thead>\n",
       "    <tr style=\"text-align: right;\">\n",
       "      <th></th>\n",
       "      <th>cant_victimas</th>\n",
       "      <th>fecha</th>\n",
       "      <th>año</th>\n",
       "      <th>mes</th>\n",
       "      <th>dia</th>\n",
       "      <th>dia_de_la_semana</th>\n",
       "      <th>hora</th>\n",
       "      <th>franja_horaria</th>\n",
       "      <th>lugar</th>\n",
       "      <th>tipo_de_calle</th>\n",
       "      <th>calle</th>\n",
       "      <th>altura</th>\n",
       "      <th>cruce</th>\n",
       "      <th>comuna</th>\n",
       "      <th>longitud</th>\n",
       "      <th>latitud</th>\n",
       "      <th>participantes</th>\n",
       "      <th>victima</th>\n",
       "      <th>acusado</th>\n",
       "      <th>rol</th>\n",
       "      <th>sexo</th>\n",
       "      <th>edad</th>\n",
       "    </tr>\n",
       "    <tr>\n",
       "      <th>ID</th>\n",
       "      <th></th>\n",
       "      <th></th>\n",
       "      <th></th>\n",
       "      <th></th>\n",
       "      <th></th>\n",
       "      <th></th>\n",
       "      <th></th>\n",
       "      <th></th>\n",
       "      <th></th>\n",
       "      <th></th>\n",
       "      <th></th>\n",
       "      <th></th>\n",
       "      <th></th>\n",
       "      <th></th>\n",
       "      <th></th>\n",
       "      <th></th>\n",
       "      <th></th>\n",
       "      <th></th>\n",
       "      <th></th>\n",
       "      <th></th>\n",
       "      <th></th>\n",
       "      <th></th>\n",
       "    </tr>\n",
       "  </thead>\n",
       "  <tbody>\n",
       "  </tbody>\n",
       "</table>\n",
       "</div>"
      ],
      "text/plain": [
       "Empty DataFrame\n",
       "Columns: [cant_victimas, fecha, año, mes, dia, dia_de_la_semana, hora, franja_horaria, lugar, tipo_de_calle, calle, altura, cruce, comuna, longitud, latitud, participantes, victima, acusado, rol, sexo, edad]\n",
       "Index: []"
      ]
     },
     "execution_count": 292,
     "metadata": {},
     "output_type": "execute_result"
    }
   ],
   "source": [
    "df[df['edad']>99]"
   ]
  },
  {
   "cell_type": "markdown",
   "metadata": {},
   "source": [
    "No existen resgitros en ese rango, por lo tanto se concluye que no hay outliers para edad"
   ]
  },
  {
   "cell_type": "code",
   "execution_count": null,
   "metadata": {},
   "outputs": [],
   "source": [
    "df.to_csv('Datasets/data.csv') "
   ]
  },
  {
   "cell_type": "code",
   "execution_count": null,
   "metadata": {},
   "outputs": [],
   "source": [
    "df.to_csv('Datasets/data.xlsx') "
   ]
  },
  {
   "cell_type": "code",
   "execution_count": null,
   "metadata": {},
   "outputs": [],
   "source": [
    "\n",
    "\n"
   ]
  }
 ],
 "metadata": {
  "kernelspec": {
   "display_name": "base",
   "language": "python",
   "name": "python3"
  },
  "language_info": {
   "codemirror_mode": {
    "name": "ipython",
    "version": 3
   },
   "file_extension": ".py",
   "mimetype": "text/x-python",
   "name": "python",
   "nbconvert_exporter": "python",
   "pygments_lexer": "ipython3",
   "version": "3.12.1"
  }
 },
 "nbformat": 4,
 "nbformat_minor": 2
}
