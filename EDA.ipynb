{
 "cells": [
  {
   "cell_type": "code",
   "execution_count": 26,
   "metadata": {},
   "outputs": [],
   "source": [
    "import pandas as pd"
   ]
  },
  {
   "cell_type": "markdown",
   "metadata": {},
   "source": [
    "DataFrame 'HECHOS'"
   ]
  },
  {
   "cell_type": "code",
   "execution_count": 27,
   "metadata": {},
   "outputs": [
    {
     "data": {
      "text/html": [
       "<div>\n",
       "<style scoped>\n",
       "    .dataframe tbody tr th:only-of-type {\n",
       "        vertical-align: middle;\n",
       "    }\n",
       "\n",
       "    .dataframe tbody tr th {\n",
       "        vertical-align: top;\n",
       "    }\n",
       "\n",
       "    .dataframe thead th {\n",
       "        text-align: right;\n",
       "    }\n",
       "</style>\n",
       "<table border=\"1\" class=\"dataframe\">\n",
       "  <thead>\n",
       "    <tr style=\"text-align: right;\">\n",
       "      <th></th>\n",
       "      <th>ID</th>\n",
       "      <th>N_VICTIMAS</th>\n",
       "      <th>FECHA</th>\n",
       "      <th>AAAA</th>\n",
       "      <th>MM</th>\n",
       "      <th>DD</th>\n",
       "      <th>HORA</th>\n",
       "      <th>HH</th>\n",
       "      <th>LUGAR_DEL_HECHO</th>\n",
       "      <th>TIPO_DE_CALLE</th>\n",
       "      <th>Calle</th>\n",
       "      <th>Altura</th>\n",
       "      <th>Cruce</th>\n",
       "      <th>Dirección Normalizada</th>\n",
       "      <th>COMUNA</th>\n",
       "      <th>XY (CABA)</th>\n",
       "      <th>pos x</th>\n",
       "      <th>pos y</th>\n",
       "      <th>PARTICIPANTES</th>\n",
       "      <th>VICTIMA</th>\n",
       "      <th>ACUSADO</th>\n",
       "    </tr>\n",
       "  </thead>\n",
       "  <tbody>\n",
       "    <tr>\n",
       "      <th>0</th>\n",
       "      <td>2016-0001</td>\n",
       "      <td>1</td>\n",
       "      <td>2016-01-01</td>\n",
       "      <td>2016</td>\n",
       "      <td>1</td>\n",
       "      <td>1</td>\n",
       "      <td>04:00:00</td>\n",
       "      <td>4</td>\n",
       "      <td>AV PIEDRA BUENA Y AV FERNANDEZ DE LA CRUZ</td>\n",
       "      <td>AVENIDA</td>\n",
       "      <td>PIEDRA BUENA AV.</td>\n",
       "      <td>NaN</td>\n",
       "      <td>FERNANDEZ DE LA CRUZ, F., GRAL. AV.</td>\n",
       "      <td>PIEDRA BUENA AV. y FERNANDEZ DE LA CRUZ, F., G...</td>\n",
       "      <td>8</td>\n",
       "      <td>Point (98896.78238426 93532.43437792)</td>\n",
       "      <td>-58.47533969</td>\n",
       "      <td>-34.68757022</td>\n",
       "      <td>MOTO-AUTO</td>\n",
       "      <td>MOTO</td>\n",
       "      <td>AUTO</td>\n",
       "    </tr>\n",
       "  </tbody>\n",
       "</table>\n",
       "</div>"
      ],
      "text/plain": [
       "          ID  N_VICTIMAS      FECHA  AAAA  MM  DD      HORA HH  \\\n",
       "0  2016-0001           1 2016-01-01  2016   1   1  04:00:00  4   \n",
       "\n",
       "                             LUGAR_DEL_HECHO TIPO_DE_CALLE             Calle  \\\n",
       "0  AV PIEDRA BUENA Y AV FERNANDEZ DE LA CRUZ       AVENIDA  PIEDRA BUENA AV.   \n",
       "\n",
       "   Altura                                Cruce  \\\n",
       "0     NaN  FERNANDEZ DE LA CRUZ, F., GRAL. AV.   \n",
       "\n",
       "                               Dirección Normalizada  COMUNA  \\\n",
       "0  PIEDRA BUENA AV. y FERNANDEZ DE LA CRUZ, F., G...       8   \n",
       "\n",
       "                               XY (CABA)         pos x         pos y  \\\n",
       "0  Point (98896.78238426 93532.43437792)  -58.47533969  -34.68757022   \n",
       "\n",
       "  PARTICIPANTES VICTIMA ACUSADO  \n",
       "0     MOTO-AUTO    MOTO    AUTO  "
      ]
     },
     "execution_count": 27,
     "metadata": {},
     "output_type": "execute_result"
    }
   ],
   "source": [
    "df1 = pd.read_excel('Datasets/homicidios.xlsx')\n",
    "df1.head(1)"
   ]
  },
  {
   "cell_type": "markdown",
   "metadata": {},
   "source": [
    "DataFrame 'VICTIMAS'"
   ]
  },
  {
   "cell_type": "code",
   "execution_count": 28,
   "metadata": {},
   "outputs": [
    {
     "data": {
      "text/html": [
       "<div>\n",
       "<style scoped>\n",
       "    .dataframe tbody tr th:only-of-type {\n",
       "        vertical-align: middle;\n",
       "    }\n",
       "\n",
       "    .dataframe tbody tr th {\n",
       "        vertical-align: top;\n",
       "    }\n",
       "\n",
       "    .dataframe thead th {\n",
       "        text-align: right;\n",
       "    }\n",
       "</style>\n",
       "<table border=\"1\" class=\"dataframe\">\n",
       "  <thead>\n",
       "    <tr style=\"text-align: right;\">\n",
       "      <th></th>\n",
       "      <th>ID_hecho</th>\n",
       "      <th>FECHA</th>\n",
       "      <th>AAAA</th>\n",
       "      <th>MM</th>\n",
       "      <th>DD</th>\n",
       "      <th>ROL</th>\n",
       "      <th>VICTIMA</th>\n",
       "      <th>SEXO</th>\n",
       "      <th>EDAD</th>\n",
       "      <th>FECHA_FALLECIMIENTO</th>\n",
       "    </tr>\n",
       "  </thead>\n",
       "  <tbody>\n",
       "    <tr>\n",
       "      <th>0</th>\n",
       "      <td>2016-0001</td>\n",
       "      <td>2016-01-01</td>\n",
       "      <td>2016</td>\n",
       "      <td>1</td>\n",
       "      <td>1</td>\n",
       "      <td>CONDUCTOR</td>\n",
       "      <td>MOTO</td>\n",
       "      <td>MASCULINO</td>\n",
       "      <td>19</td>\n",
       "      <td>2016-01-01 00:00:00</td>\n",
       "    </tr>\n",
       "  </tbody>\n",
       "</table>\n",
       "</div>"
      ],
      "text/plain": [
       "    ID_hecho      FECHA  AAAA  MM  DD        ROL VICTIMA       SEXO EDAD  \\\n",
       "0  2016-0001 2016-01-01  2016   1   1  CONDUCTOR    MOTO  MASCULINO   19   \n",
       "\n",
       "   FECHA_FALLECIMIENTO  \n",
       "0  2016-01-01 00:00:00  "
      ]
     },
     "execution_count": 28,
     "metadata": {},
     "output_type": "execute_result"
    }
   ],
   "source": [
    "df2 = pd.read_excel('Datasets/homicidios.xlsx', sheet_name= 'VICTIMAS')\n",
    "df2.head(1)"
   ]
  },
  {
   "cell_type": "markdown",
   "metadata": {},
   "source": [
    "Se realiza un merge de ambos Datasets para tener centralizada la informacion"
   ]
  },
  {
   "cell_type": "code",
   "execution_count": 29,
   "metadata": {},
   "outputs": [
    {
     "data": {
      "text/html": [
       "<div>\n",
       "<style scoped>\n",
       "    .dataframe tbody tr th:only-of-type {\n",
       "        vertical-align: middle;\n",
       "    }\n",
       "\n",
       "    .dataframe tbody tr th {\n",
       "        vertical-align: top;\n",
       "    }\n",
       "\n",
       "    .dataframe thead th {\n",
       "        text-align: right;\n",
       "    }\n",
       "</style>\n",
       "<table border=\"1\" class=\"dataframe\">\n",
       "  <thead>\n",
       "    <tr style=\"text-align: right;\">\n",
       "      <th></th>\n",
       "      <th>N_VICTIMAS</th>\n",
       "      <th>FECHA_x</th>\n",
       "      <th>AAAA_x</th>\n",
       "      <th>MM_x</th>\n",
       "      <th>DD_x</th>\n",
       "      <th>HORA</th>\n",
       "      <th>HH</th>\n",
       "      <th>LUGAR_DEL_HECHO</th>\n",
       "      <th>TIPO_DE_CALLE</th>\n",
       "      <th>Calle</th>\n",
       "      <th>Altura</th>\n",
       "      <th>Cruce</th>\n",
       "      <th>Dirección Normalizada</th>\n",
       "      <th>COMUNA</th>\n",
       "      <th>XY (CABA)</th>\n",
       "      <th>pos x</th>\n",
       "      <th>pos y</th>\n",
       "      <th>PARTICIPANTES</th>\n",
       "      <th>VICTIMA_x</th>\n",
       "      <th>ACUSADO</th>\n",
       "      <th>ID_hecho</th>\n",
       "      <th>FECHA_y</th>\n",
       "      <th>AAAA_y</th>\n",
       "      <th>MM_y</th>\n",
       "      <th>DD_y</th>\n",
       "      <th>ROL</th>\n",
       "      <th>VICTIMA_y</th>\n",
       "      <th>SEXO</th>\n",
       "      <th>EDAD</th>\n",
       "      <th>FECHA_FALLECIMIENTO</th>\n",
       "    </tr>\n",
       "    <tr>\n",
       "      <th>ID</th>\n",
       "      <th></th>\n",
       "      <th></th>\n",
       "      <th></th>\n",
       "      <th></th>\n",
       "      <th></th>\n",
       "      <th></th>\n",
       "      <th></th>\n",
       "      <th></th>\n",
       "      <th></th>\n",
       "      <th></th>\n",
       "      <th></th>\n",
       "      <th></th>\n",
       "      <th></th>\n",
       "      <th></th>\n",
       "      <th></th>\n",
       "      <th></th>\n",
       "      <th></th>\n",
       "      <th></th>\n",
       "      <th></th>\n",
       "      <th></th>\n",
       "      <th></th>\n",
       "      <th></th>\n",
       "      <th></th>\n",
       "      <th></th>\n",
       "      <th></th>\n",
       "      <th></th>\n",
       "      <th></th>\n",
       "      <th></th>\n",
       "      <th></th>\n",
       "      <th></th>\n",
       "    </tr>\n",
       "  </thead>\n",
       "  <tbody>\n",
       "    <tr>\n",
       "      <th>2016-0001</th>\n",
       "      <td>1</td>\n",
       "      <td>2016-01-01</td>\n",
       "      <td>2016</td>\n",
       "      <td>1</td>\n",
       "      <td>1</td>\n",
       "      <td>04:00:00</td>\n",
       "      <td>4</td>\n",
       "      <td>AV PIEDRA BUENA Y AV FERNANDEZ DE LA CRUZ</td>\n",
       "      <td>AVENIDA</td>\n",
       "      <td>PIEDRA BUENA AV.</td>\n",
       "      <td>NaN</td>\n",
       "      <td>FERNANDEZ DE LA CRUZ, F., GRAL. AV.</td>\n",
       "      <td>PIEDRA BUENA AV. y FERNANDEZ DE LA CRUZ, F., G...</td>\n",
       "      <td>8</td>\n",
       "      <td>Point (98896.78238426 93532.43437792)</td>\n",
       "      <td>-58.47533969</td>\n",
       "      <td>-34.68757022</td>\n",
       "      <td>MOTO-AUTO</td>\n",
       "      <td>MOTO</td>\n",
       "      <td>AUTO</td>\n",
       "      <td>2016-0001</td>\n",
       "      <td>2016-01-01</td>\n",
       "      <td>2016</td>\n",
       "      <td>1</td>\n",
       "      <td>1</td>\n",
       "      <td>CONDUCTOR</td>\n",
       "      <td>MOTO</td>\n",
       "      <td>MASCULINO</td>\n",
       "      <td>19</td>\n",
       "      <td>2016-01-01 00:00:00</td>\n",
       "    </tr>\n",
       "  </tbody>\n",
       "</table>\n",
       "</div>"
      ],
      "text/plain": [
       "           N_VICTIMAS    FECHA_x  AAAA_x  MM_x  DD_x      HORA HH  \\\n",
       "ID                                                                  \n",
       "2016-0001           1 2016-01-01    2016     1     1  04:00:00  4   \n",
       "\n",
       "                                     LUGAR_DEL_HECHO TIPO_DE_CALLE  \\\n",
       "ID                                                                   \n",
       "2016-0001  AV PIEDRA BUENA Y AV FERNANDEZ DE LA CRUZ       AVENIDA   \n",
       "\n",
       "                      Calle  Altura                                Cruce  \\\n",
       "ID                                                                         \n",
       "2016-0001  PIEDRA BUENA AV.     NaN  FERNANDEZ DE LA CRUZ, F., GRAL. AV.   \n",
       "\n",
       "                                       Dirección Normalizada  COMUNA  \\\n",
       "ID                                                                     \n",
       "2016-0001  PIEDRA BUENA AV. y FERNANDEZ DE LA CRUZ, F., G...       8   \n",
       "\n",
       "                                       XY (CABA)         pos x         pos y  \\\n",
       "ID                                                                             \n",
       "2016-0001  Point (98896.78238426 93532.43437792)  -58.47533969  -34.68757022   \n",
       "\n",
       "          PARTICIPANTES VICTIMA_x ACUSADO   ID_hecho    FECHA_y  AAAA_y  MM_y  \\\n",
       "ID                                                                              \n",
       "2016-0001     MOTO-AUTO      MOTO    AUTO  2016-0001 2016-01-01    2016     1   \n",
       "\n",
       "           DD_y        ROL VICTIMA_y       SEXO EDAD  FECHA_FALLECIMIENTO  \n",
       "ID                                                                         \n",
       "2016-0001     1  CONDUCTOR      MOTO  MASCULINO   19  2016-01-01 00:00:00  "
      ]
     },
     "execution_count": 29,
     "metadata": {},
     "output_type": "execute_result"
    }
   ],
   "source": [
    "df = pd.merge(df1, df2, left_on='ID', right_on='ID_hecho', how= 'inner')\n",
    "df.set_index('ID', inplace=True)\n",
    "pd.set_option('display.max_columns', None)\n",
    "df.head(1)"
   ]
  },
  {
   "cell_type": "markdown",
   "metadata": {},
   "source": [
    "Se borran columnas innecesarias"
   ]
  },
  {
   "cell_type": "code",
   "execution_count": 30,
   "metadata": {},
   "outputs": [],
   "source": [
    "df.drop(columns= {'XY (CABA)', 'FECHA_y', 'Dirección Normalizada', 'AAAA_y', 'MM_y', 'DD_y', 'VICTIMA_y', 'FECHA_FALLECIMIENTO'}, inplace=True)"
   ]
  },
  {
   "cell_type": "markdown",
   "metadata": {},
   "source": [
    "Se eliminan columnas que no son necesarias"
   ]
  },
  {
   "cell_type": "code",
   "execution_count": 31,
   "metadata": {},
   "outputs": [
    {
     "data": {
      "text/html": [
       "<div>\n",
       "<style scoped>\n",
       "    .dataframe tbody tr th:only-of-type {\n",
       "        vertical-align: middle;\n",
       "    }\n",
       "\n",
       "    .dataframe tbody tr th {\n",
       "        vertical-align: top;\n",
       "    }\n",
       "\n",
       "    .dataframe thead th {\n",
       "        text-align: right;\n",
       "    }\n",
       "</style>\n",
       "<table border=\"1\" class=\"dataframe\">\n",
       "  <thead>\n",
       "    <tr style=\"text-align: right;\">\n",
       "      <th></th>\n",
       "      <th>cant_victimas</th>\n",
       "      <th>fecha</th>\n",
       "      <th>año</th>\n",
       "      <th>mes</th>\n",
       "      <th>dia</th>\n",
       "      <th>hora</th>\n",
       "      <th>franja_horaria</th>\n",
       "      <th>lugar</th>\n",
       "      <th>tipo_de_calle</th>\n",
       "      <th>calle</th>\n",
       "      <th>altura</th>\n",
       "      <th>cruce</th>\n",
       "      <th>comuna</th>\n",
       "      <th>longitud</th>\n",
       "      <th>latitud</th>\n",
       "      <th>participantes</th>\n",
       "      <th>victima</th>\n",
       "      <th>acusado</th>\n",
       "      <th>rol</th>\n",
       "      <th>sexo</th>\n",
       "      <th>edad</th>\n",
       "    </tr>\n",
       "    <tr>\n",
       "      <th>id_hecho</th>\n",
       "      <th></th>\n",
       "      <th></th>\n",
       "      <th></th>\n",
       "      <th></th>\n",
       "      <th></th>\n",
       "      <th></th>\n",
       "      <th></th>\n",
       "      <th></th>\n",
       "      <th></th>\n",
       "      <th></th>\n",
       "      <th></th>\n",
       "      <th></th>\n",
       "      <th></th>\n",
       "      <th></th>\n",
       "      <th></th>\n",
       "      <th></th>\n",
       "      <th></th>\n",
       "      <th></th>\n",
       "      <th></th>\n",
       "      <th></th>\n",
       "      <th></th>\n",
       "    </tr>\n",
       "  </thead>\n",
       "  <tbody>\n",
       "    <tr>\n",
       "      <th>2016-0001</th>\n",
       "      <td>1</td>\n",
       "      <td>2016-01-01</td>\n",
       "      <td>2016</td>\n",
       "      <td>1</td>\n",
       "      <td>1</td>\n",
       "      <td>04:00:00</td>\n",
       "      <td>4</td>\n",
       "      <td>AV PIEDRA BUENA Y AV FERNANDEZ DE LA CRUZ</td>\n",
       "      <td>AVENIDA</td>\n",
       "      <td>PIEDRA BUENA AV.</td>\n",
       "      <td>NaN</td>\n",
       "      <td>FERNANDEZ DE LA CRUZ, F., GRAL. AV.</td>\n",
       "      <td>8</td>\n",
       "      <td>-58.47533969</td>\n",
       "      <td>-34.68757022</td>\n",
       "      <td>MOTO-AUTO</td>\n",
       "      <td>MOTO</td>\n",
       "      <td>AUTO</td>\n",
       "      <td>CONDUCTOR</td>\n",
       "      <td>MASCULINO</td>\n",
       "      <td>19</td>\n",
       "    </tr>\n",
       "  </tbody>\n",
       "</table>\n",
       "</div>"
      ],
      "text/plain": [
       "           cant_victimas      fecha   año  mes  dia      hora franja_horaria  \\\n",
       "id_hecho                                                                       \n",
       "2016-0001              1 2016-01-01  2016    1    1  04:00:00              4   \n",
       "\n",
       "                                               lugar tipo_de_calle  \\\n",
       "id_hecho                                                             \n",
       "2016-0001  AV PIEDRA BUENA Y AV FERNANDEZ DE LA CRUZ       AVENIDA   \n",
       "\n",
       "                      calle  altura                                cruce  \\\n",
       "id_hecho                                                                   \n",
       "2016-0001  PIEDRA BUENA AV.     NaN  FERNANDEZ DE LA CRUZ, F., GRAL. AV.   \n",
       "\n",
       "           comuna      longitud       latitud participantes victima acusado  \\\n",
       "id_hecho                                                                      \n",
       "2016-0001       8  -58.47533969  -34.68757022     MOTO-AUTO    MOTO    AUTO   \n",
       "\n",
       "                 rol       sexo edad  \n",
       "id_hecho                              \n",
       "2016-0001  CONDUCTOR  MASCULINO   19  "
      ]
     },
     "execution_count": 31,
     "metadata": {},
     "output_type": "execute_result"
    }
   ],
   "source": [
    "nombres = {'N_VICTIMAS':'cant_victimas', 'FECHA_x':'fecha', 'AAAA_x':'año',\n",
    "                  'MM_x':'mes', 'DD_x':'dia', 'HORA':'hora', 'HH':'franja_horaria', 'LUGAR_DEL_HECHO':'lugar', 'TIPO_DE_CALLE':'tipo_de_calle',\n",
    "                  'Calle':'calle', 'Altura':'altura', 'Cruce':'cruce','COMUNA':'comuna', 'pos x':'longitud',\n",
    "                  'pos y':'latitud', 'PARTICIPANTES':'participantes', 'VICTIMA_x':'victima',\n",
    "                  'ACUSADO':'acusado', 'ROL':'rol', 'SEXO':'sexo', 'EDAD':'edad'}\n",
    "df = df.rename(columns=nombres)\n",
    "df.rename_axis('id_hecho', axis='index', inplace=True)\n",
    "df.drop(columns='ID_hecho', inplace=True)\n",
    "df.head(1)"
   ]
  },
  {
   "cell_type": "markdown",
   "metadata": {},
   "source": [
    "Se verifican los tipos de datos de cada clase, para su postrior correcion"
   ]
  },
  {
   "cell_type": "code",
   "execution_count": 32,
   "metadata": {},
   "outputs": [
    {
     "name": "stdout",
     "output_type": "stream",
     "text": [
      "<class 'pandas.core.frame.DataFrame'>\n",
      "Index: 717 entries, 2016-0001 to 2021-0097\n",
      "Data columns (total 21 columns):\n",
      " #   Column          Non-Null Count  Dtype         \n",
      "---  ------          --------------  -----         \n",
      " 0   cant_victimas   717 non-null    int64         \n",
      " 1   fecha           717 non-null    datetime64[ns]\n",
      " 2   año             717 non-null    int64         \n",
      " 3   mes             717 non-null    int64         \n",
      " 4   dia             717 non-null    int64         \n",
      " 5   hora            717 non-null    object        \n",
      " 6   franja_horaria  717 non-null    object        \n",
      " 7   lugar           717 non-null    object        \n",
      " 8   tipo_de_calle   717 non-null    object        \n",
      " 9   calle           716 non-null    object        \n",
      " 10  altura          133 non-null    float64       \n",
      " 11  cruce           540 non-null    object        \n",
      " 12  comuna          717 non-null    int64         \n",
      " 13  longitud        717 non-null    object        \n",
      " 14  latitud         717 non-null    object        \n",
      " 15  participantes   717 non-null    object        \n",
      " 16  victima         717 non-null    object        \n",
      " 17  acusado         717 non-null    object        \n",
      " 18  rol             717 non-null    object        \n",
      " 19  sexo            717 non-null    object        \n",
      " 20  edad            717 non-null    object        \n",
      "dtypes: datetime64[ns](1), float64(1), int64(5), object(14)\n",
      "memory usage: 123.2+ KB\n"
     ]
    }
   ],
   "source": [
    "df.info()"
   ]
  },
  {
   "cell_type": "markdown",
   "metadata": {},
   "source": [
    "Se verifican columnas de longitud y latitud con solo '.' en sus registros"
   ]
  },
  {
   "cell_type": "code",
   "execution_count": 33,
   "metadata": {},
   "outputs": [
    {
     "data": {
      "text/plain": [
       "13"
      ]
     },
     "execution_count": 33,
     "metadata": {},
     "output_type": "execute_result"
    }
   ],
   "source": [
    "df4 = df[(df['latitud'] == '.') & (df['longitud'] == '.')]\n",
    "len(df4)"
   ]
  },
  {
   "cell_type": "markdown",
   "metadata": {},
   "source": [
    "Se reemplaza los registros que tienen punto por nulos"
   ]
  },
  {
   "cell_type": "code",
   "execution_count": 34,
   "metadata": {},
   "outputs": [],
   "source": [
    "def reemplazar_punto(fila):\n",
    "    if fila== '.':\n",
    "        return None\n",
    "    else:\n",
    "        return float(fila)\n",
    "df['latitud'] = df['latitud'].apply(reemplazar_punto)\n",
    "df['longitud'] = df['longitud'].apply(reemplazar_punto)"
   ]
  },
  {
   "cell_type": "markdown",
   "metadata": {},
   "source": [
    "Se verifican valores 'SD' en la columna franja horaria"
   ]
  },
  {
   "cell_type": "code",
   "execution_count": 35,
   "metadata": {},
   "outputs": [
    {
     "data": {
      "text/plain": [
       "1"
      ]
     },
     "execution_count": 35,
     "metadata": {},
     "output_type": "execute_result"
    }
   ],
   "source": [
    "df5 = df[df['franja_horaria']=='SD']\n",
    "len(df5)"
   ]
  },
  {
   "cell_type": "markdown",
   "metadata": {},
   "source": [
    "Se calcula la moda de la franja horaria"
   ]
  },
  {
   "cell_type": "code",
   "execution_count": 36,
   "metadata": {},
   "outputs": [
    {
     "data": {
      "text/plain": [
       "0    7\n",
       "Name: franja_horaria, dtype: object"
      ]
     },
     "execution_count": 36,
     "metadata": {},
     "output_type": "execute_result"
    }
   ],
   "source": [
    "df5 = df[df['franja_horaria']!='SD']\n",
    "moda = df5['franja_horaria'].mode()\n",
    "moda"
   ]
  },
  {
   "cell_type": "markdown",
   "metadata": {},
   "source": [
    "se sustituyen los campos 'SD' por la moda del conjunto de datos"
   ]
  },
  {
   "cell_type": "code",
   "execution_count": 37,
   "metadata": {},
   "outputs": [],
   "source": [
    "def cambiar_int(franja_horaria):\n",
    "    if franja_horaria == 'SD':\n",
    "        return moda[0]\n",
    "    else:\n",
    "        franja_horaria = int(franja_horaria)\n",
    "        return franja_horaria\n",
    "df['franja_horaria'] = df['franja_horaria'].apply(cambiar_int)"
   ]
  },
  {
   "cell_type": "markdown",
   "metadata": {},
   "source": [
    "Se verifican valores 'SD' en la columna hora"
   ]
  },
  {
   "cell_type": "code",
   "execution_count": 38,
   "metadata": {},
   "outputs": [
    {
     "data": {
      "text/plain": [
       "1"
      ]
     },
     "execution_count": 38,
     "metadata": {},
     "output_type": "execute_result"
    }
   ],
   "source": [
    "len(df[df['hora']=='SD'])"
   ]
  },
  {
   "cell_type": "code",
   "execution_count": 39,
   "metadata": {},
   "outputs": [],
   "source": [
    "def cambiar_tipo(hora):\n",
    "    if hora == 'SD':\n",
    "        return None\n",
    "    else:\n",
    "       return hora\n",
    "df['hora'] = df['hora'].apply(cambiar_tipo)\n"
   ]
  },
  {
   "cell_type": "code",
   "execution_count": 40,
   "metadata": {},
   "outputs": [],
   "source": [
    "\n",
    "df['hora'] = pd.to_datetime(df['hora'], format='%H:%M:%S').dt.time\n"
   ]
  },
  {
   "cell_type": "markdown",
   "metadata": {},
   "source": [
    "Se adiciona una columna relacionado la fecha al dia de la semana"
   ]
  },
  {
   "cell_type": "code",
   "execution_count": 41,
   "metadata": {},
   "outputs": [],
   "source": [
    "df['dia_de_la_semana'] = df['fecha'].dt.day_name()\n",
    "column_to_move = 'dia_de_la_semana'\n",
    "new_position = 5  # Puedes ajustar este índice según tu preferencia\n",
    "current_columns = df.columns.tolist()\n",
    "current_columns.remove(column_to_move)\n",
    "current_columns.insert(new_position, column_to_move)\n",
    "df = df[current_columns]"
   ]
  },
  {
   "cell_type": "code",
   "execution_count": 42,
   "metadata": {},
   "outputs": [
    {
     "data": {
      "text/html": [
       "<div>\n",
       "<style scoped>\n",
       "    .dataframe tbody tr th:only-of-type {\n",
       "        vertical-align: middle;\n",
       "    }\n",
       "\n",
       "    .dataframe tbody tr th {\n",
       "        vertical-align: top;\n",
       "    }\n",
       "\n",
       "    .dataframe thead th {\n",
       "        text-align: right;\n",
       "    }\n",
       "</style>\n",
       "<table border=\"1\" class=\"dataframe\">\n",
       "  <thead>\n",
       "    <tr style=\"text-align: right;\">\n",
       "      <th></th>\n",
       "      <th>cant_victimas</th>\n",
       "      <th>fecha</th>\n",
       "      <th>año</th>\n",
       "      <th>mes</th>\n",
       "      <th>dia</th>\n",
       "      <th>dia_de_la_semana</th>\n",
       "      <th>hora</th>\n",
       "      <th>franja_horaria</th>\n",
       "      <th>lugar</th>\n",
       "      <th>tipo_de_calle</th>\n",
       "      <th>calle</th>\n",
       "      <th>altura</th>\n",
       "      <th>cruce</th>\n",
       "      <th>comuna</th>\n",
       "      <th>longitud</th>\n",
       "      <th>latitud</th>\n",
       "      <th>participantes</th>\n",
       "      <th>victima</th>\n",
       "      <th>acusado</th>\n",
       "      <th>rol</th>\n",
       "      <th>sexo</th>\n",
       "      <th>edad</th>\n",
       "    </tr>\n",
       "    <tr>\n",
       "      <th>id_hecho</th>\n",
       "      <th></th>\n",
       "      <th></th>\n",
       "      <th></th>\n",
       "      <th></th>\n",
       "      <th></th>\n",
       "      <th></th>\n",
       "      <th></th>\n",
       "      <th></th>\n",
       "      <th></th>\n",
       "      <th></th>\n",
       "      <th></th>\n",
       "      <th></th>\n",
       "      <th></th>\n",
       "      <th></th>\n",
       "      <th></th>\n",
       "      <th></th>\n",
       "      <th></th>\n",
       "      <th></th>\n",
       "      <th></th>\n",
       "      <th></th>\n",
       "      <th></th>\n",
       "      <th></th>\n",
       "    </tr>\n",
       "  </thead>\n",
       "  <tbody>\n",
       "    <tr>\n",
       "      <th>2016-0001</th>\n",
       "      <td>1</td>\n",
       "      <td>2016-01-01</td>\n",
       "      <td>2016</td>\n",
       "      <td>1</td>\n",
       "      <td>1</td>\n",
       "      <td>Friday</td>\n",
       "      <td>04:00:00</td>\n",
       "      <td>4</td>\n",
       "      <td>AV PIEDRA BUENA Y AV FERNANDEZ DE LA CRUZ</td>\n",
       "      <td>AVENIDA</td>\n",
       "      <td>PIEDRA BUENA AV.</td>\n",
       "      <td>NaN</td>\n",
       "      <td>FERNANDEZ DE LA CRUZ, F., GRAL. AV.</td>\n",
       "      <td>8</td>\n",
       "      <td>-58.47534</td>\n",
       "      <td>-34.68757</td>\n",
       "      <td>MOTO-AUTO</td>\n",
       "      <td>MOTO</td>\n",
       "      <td>AUTO</td>\n",
       "      <td>CONDUCTOR</td>\n",
       "      <td>MASCULINO</td>\n",
       "      <td>19</td>\n",
       "    </tr>\n",
       "  </tbody>\n",
       "</table>\n",
       "</div>"
      ],
      "text/plain": [
       "           cant_victimas      fecha   año  mes  dia dia_de_la_semana  \\\n",
       "id_hecho                                                               \n",
       "2016-0001              1 2016-01-01  2016    1    1           Friday   \n",
       "\n",
       "               hora  franja_horaria  \\\n",
       "id_hecho                              \n",
       "2016-0001  04:00:00               4   \n",
       "\n",
       "                                               lugar tipo_de_calle  \\\n",
       "id_hecho                                                             \n",
       "2016-0001  AV PIEDRA BUENA Y AV FERNANDEZ DE LA CRUZ       AVENIDA   \n",
       "\n",
       "                      calle  altura                                cruce  \\\n",
       "id_hecho                                                                   \n",
       "2016-0001  PIEDRA BUENA AV.     NaN  FERNANDEZ DE LA CRUZ, F., GRAL. AV.   \n",
       "\n",
       "           comuna  longitud   latitud participantes victima acusado  \\\n",
       "id_hecho                                                              \n",
       "2016-0001       8 -58.47534 -34.68757     MOTO-AUTO    MOTO    AUTO   \n",
       "\n",
       "                 rol       sexo edad  \n",
       "id_hecho                              \n",
       "2016-0001  CONDUCTOR  MASCULINO   19  "
      ]
     },
     "execution_count": 42,
     "metadata": {},
     "output_type": "execute_result"
    }
   ],
   "source": [
    "df.head(1)"
   ]
  },
  {
   "cell_type": "markdown",
   "metadata": {},
   "source": [
    "Se verifican valores 'SD' en la columna hora"
   ]
  },
  {
   "cell_type": "code",
   "execution_count": 43,
   "metadata": {},
   "outputs": [
    {
     "data": {
      "text/plain": [
       "53"
      ]
     },
     "execution_count": 43,
     "metadata": {},
     "output_type": "execute_result"
    }
   ],
   "source": [
    "len(df[df['edad']=='SD'])"
   ]
  },
  {
   "cell_type": "markdown",
   "metadata": {},
   "source": [
    "Se sustituyen los valores 'SD' por la mediana del conjunto de datos"
   ]
  },
  {
   "cell_type": "code",
   "execution_count": 44,
   "metadata": {},
   "outputs": [
    {
     "data": {
      "text/plain": [
       "(664, 22)"
      ]
     },
     "execution_count": 44,
     "metadata": {},
     "output_type": "execute_result"
    }
   ],
   "source": [
    "df_mediana = df[df['edad'] != 'SD']\n",
    "mediana = df_mediana['edad'].median()\n",
    "df_mediana.shape"
   ]
  },
  {
   "cell_type": "code",
   "execution_count": 45,
   "metadata": {},
   "outputs": [],
   "source": [
    "def convertir_edad_to_int(registro):\n",
    "    if registro == 'SD':\n",
    "        return int(mediana)\n",
    "    else:\n",
    "        return int(registro)\n",
    "df['edad'] = df['edad'].apply(convertir_edad_to_int)"
   ]
  },
  {
   "cell_type": "code",
   "execution_count": 46,
   "metadata": {},
   "outputs": [
    {
     "data": {
      "text/plain": [
       "0"
      ]
     },
     "execution_count": 46,
     "metadata": {},
     "output_type": "execute_result"
    }
   ],
   "source": [
    "len(df[df['edad']=='SD'])"
   ]
  },
  {
   "cell_type": "code",
   "execution_count": 47,
   "metadata": {},
   "outputs": [
    {
     "name": "stdout",
     "output_type": "stream",
     "text": [
      "<class 'pandas.core.frame.DataFrame'>\n",
      "Index: 717 entries, 2016-0001 to 2021-0097\n",
      "Data columns (total 22 columns):\n",
      " #   Column            Non-Null Count  Dtype         \n",
      "---  ------            --------------  -----         \n",
      " 0   cant_victimas     717 non-null    int64         \n",
      " 1   fecha             717 non-null    datetime64[ns]\n",
      " 2   año               717 non-null    int64         \n",
      " 3   mes               717 non-null    int64         \n",
      " 4   dia               717 non-null    int64         \n",
      " 5   dia_de_la_semana  717 non-null    object        \n",
      " 6   hora              716 non-null    object        \n",
      " 7   franja_horaria    717 non-null    int64         \n",
      " 8   lugar             717 non-null    object        \n",
      " 9   tipo_de_calle     717 non-null    object        \n",
      " 10  calle             716 non-null    object        \n",
      " 11  altura            133 non-null    float64       \n",
      " 12  cruce             540 non-null    object        \n",
      " 13  comuna            717 non-null    int64         \n",
      " 14  longitud          704 non-null    float64       \n",
      " 15  latitud           704 non-null    float64       \n",
      " 16  participantes     717 non-null    object        \n",
      " 17  victima           717 non-null    object        \n",
      " 18  acusado           717 non-null    object        \n",
      " 19  rol               717 non-null    object        \n",
      " 20  sexo              717 non-null    object        \n",
      " 21  edad              717 non-null    int64         \n",
      "dtypes: datetime64[ns](1), float64(3), int64(7), object(11)\n",
      "memory usage: 145.0+ KB\n"
     ]
    }
   ],
   "source": [
    "df.info()"
   ]
  },
  {
   "cell_type": "code",
   "execution_count": 48,
   "metadata": {},
   "outputs": [],
   "source": [
    "df.to_excel('E:/HENRY_Labs/Data_Analytics/Datasets/data.xlsx')"
   ]
  }
 ],
 "metadata": {
  "kernelspec": {
   "display_name": "Python 3",
   "language": "python",
   "name": "python3"
  },
  "language_info": {
   "codemirror_mode": {
    "name": "ipython",
    "version": 3
   },
   "file_extension": ".py",
   "mimetype": "text/x-python",
   "name": "python",
   "nbconvert_exporter": "python",
   "pygments_lexer": "ipython3",
   "version": "3.12.1"
  }
 },
 "nbformat": 4,
 "nbformat_minor": 2
}
